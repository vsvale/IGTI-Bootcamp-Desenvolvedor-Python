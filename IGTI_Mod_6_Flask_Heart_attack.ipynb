{
  "nbformat": 4,
  "nbformat_minor": 0,
  "metadata": {
    "colab": {
      "name": "IGTI_Flask_Heart_attack.ipynb",
      "provenance": [],
      "collapsed_sections": [
        "mtthTQAAdyu7",
        "zOJw_XaheUN_",
        "HjT37rzaek-_",
        "bJQb44hCOkw9",
        "8_KVNa_pOibf",
        "RDXc9sfwRIhz",
        "LXfaYR0hPnuh",
        "N7-QZCahSPMZ",
        "Oi5sc2QnTSB6",
        "hPov7gQUTaP3",
        "KterfiMVT4Zp"
      ],
      "authorship_tag": "ABX9TyO9dPWKLZOEfFZ99lZQSS4+",
      "include_colab_link": true
    },
    "kernelspec": {
      "display_name": "Python 3",
      "name": "python3"
    }
  },
  "cells": [
    {
      "cell_type": "markdown",
      "metadata": {
        "id": "view-in-github",
        "colab_type": "text"
      },
      "source": [
        "<a href=\"https://colab.research.google.com/github/vsvale/IGTI-Bootcamp-Desenvolvedor-Python/blob/main/IGTI_Mod_6_Flask_Heart_attack.ipynb\" target=\"_parent\"><img src=\"https://colab.research.google.com/assets/colab-badge.svg\" alt=\"Open In Colab\"/></a>"
      ]
    },
    {
      "cell_type": "code",
      "metadata": {
        "id": "8Cm8l6V1Ti7h"
      },
      "source": [
        "import numpy as np\n",
        "import pandas as pd"
      ],
      "execution_count": null,
      "outputs": []
    },
    {
      "cell_type": "code",
      "metadata": {
        "colab": {
          "background_save": true,
          "base_uri": "https://localhost:8080/"
        },
        "id": "cpIxTtSxF0c0",
        "outputId": "49ff872e-6635-42f6-a410-c3bf05cd772d"
      },
      "source": [
        "!git clone 'https://github.com/vsvale/Flask_Heart_attack.git'"
      ],
      "execution_count": null,
      "outputs": [
        {
          "output_type": "stream",
          "text": [
            "Cloning into 'Flask_Heart_attack'...\n",
            "remote: Enumerating objects: 14, done.\u001b[K\n",
            "remote: Counting objects: 100% (14/14), done.\u001b[K\n",
            "remote: Compressing objects: 100% (13/13), done.\u001b[K\n",
            "remote: Total 14 (delta 2), reused 0 (delta 0), pack-reused 0\u001b[K\n",
            "Unpacking objects: 100% (14/14), done.\n"
          ],
          "name": "stdout"
        }
      ]
    },
    {
      "cell_type": "code",
      "metadata": {
        "colab": {
          "background_save": true,
          "base_uri": "https://localhost:8080/",
          "height": 223
        },
        "id": "BavvnrDEUDNA",
        "outputId": "f8584fa8-2a29-4831-9c78-8d8734d122a4"
      },
      "source": [
        "df = pd.read_csv('/content/Flask_Heart_attack/doencas_coracao.csv')\n",
        "df.head()"
      ],
      "execution_count": null,
      "outputs": [
        {
          "output_type": "execute_result",
          "data": {
            "text/html": [
              "<div>\n",
              "<style scoped>\n",
              "    .dataframe tbody tr th:only-of-type {\n",
              "        vertical-align: middle;\n",
              "    }\n",
              "\n",
              "    .dataframe tbody tr th {\n",
              "        vertical-align: top;\n",
              "    }\n",
              "\n",
              "    .dataframe thead th {\n",
              "        text-align: right;\n",
              "    }\n",
              "</style>\n",
              "<table border=\"1\" class=\"dataframe\">\n",
              "  <thead>\n",
              "    <tr style=\"text-align: right;\">\n",
              "      <th></th>\n",
              "      <th>age</th>\n",
              "      <th>anaemia</th>\n",
              "      <th>creatinine_phosphokinase</th>\n",
              "      <th>diabetes</th>\n",
              "      <th>ejection_fraction</th>\n",
              "      <th>high_blood_pressure</th>\n",
              "      <th>platelets</th>\n",
              "      <th>serum_creatinine</th>\n",
              "      <th>serum_sodium</th>\n",
              "      <th>sex</th>\n",
              "      <th>smoking</th>\n",
              "      <th>time</th>\n",
              "      <th>DEATH_EVENT</th>\n",
              "    </tr>\n",
              "  </thead>\n",
              "  <tbody>\n",
              "    <tr>\n",
              "      <th>0</th>\n",
              "      <td>75.0</td>\n",
              "      <td>0</td>\n",
              "      <td>582</td>\n",
              "      <td>0</td>\n",
              "      <td>20</td>\n",
              "      <td>1</td>\n",
              "      <td>265000.00</td>\n",
              "      <td>1.9</td>\n",
              "      <td>130</td>\n",
              "      <td>1</td>\n",
              "      <td>0</td>\n",
              "      <td>4</td>\n",
              "      <td>1</td>\n",
              "    </tr>\n",
              "    <tr>\n",
              "      <th>1</th>\n",
              "      <td>55.0</td>\n",
              "      <td>0</td>\n",
              "      <td>7861</td>\n",
              "      <td>0</td>\n",
              "      <td>38</td>\n",
              "      <td>0</td>\n",
              "      <td>263358.03</td>\n",
              "      <td>1.1</td>\n",
              "      <td>136</td>\n",
              "      <td>1</td>\n",
              "      <td>0</td>\n",
              "      <td>6</td>\n",
              "      <td>1</td>\n",
              "    </tr>\n",
              "    <tr>\n",
              "      <th>2</th>\n",
              "      <td>65.0</td>\n",
              "      <td>0</td>\n",
              "      <td>146</td>\n",
              "      <td>0</td>\n",
              "      <td>20</td>\n",
              "      <td>0</td>\n",
              "      <td>162000.00</td>\n",
              "      <td>1.3</td>\n",
              "      <td>129</td>\n",
              "      <td>1</td>\n",
              "      <td>1</td>\n",
              "      <td>7</td>\n",
              "      <td>1</td>\n",
              "    </tr>\n",
              "    <tr>\n",
              "      <th>3</th>\n",
              "      <td>50.0</td>\n",
              "      <td>1</td>\n",
              "      <td>111</td>\n",
              "      <td>0</td>\n",
              "      <td>20</td>\n",
              "      <td>0</td>\n",
              "      <td>210000.00</td>\n",
              "      <td>1.9</td>\n",
              "      <td>137</td>\n",
              "      <td>1</td>\n",
              "      <td>0</td>\n",
              "      <td>7</td>\n",
              "      <td>1</td>\n",
              "    </tr>\n",
              "    <tr>\n",
              "      <th>4</th>\n",
              "      <td>65.0</td>\n",
              "      <td>1</td>\n",
              "      <td>160</td>\n",
              "      <td>1</td>\n",
              "      <td>20</td>\n",
              "      <td>0</td>\n",
              "      <td>327000.00</td>\n",
              "      <td>2.7</td>\n",
              "      <td>116</td>\n",
              "      <td>0</td>\n",
              "      <td>0</td>\n",
              "      <td>8</td>\n",
              "      <td>1</td>\n",
              "    </tr>\n",
              "  </tbody>\n",
              "</table>\n",
              "</div>"
            ],
            "text/plain": [
              "    age  anaemia  creatinine_phosphokinase  ...  smoking  time  DEATH_EVENT\n",
              "0  75.0        0                       582  ...        0     4            1\n",
              "1  55.0        0                      7861  ...        0     6            1\n",
              "2  65.0        0                       146  ...        1     7            1\n",
              "3  50.0        1                       111  ...        0     7            1\n",
              "4  65.0        1                       160  ...        0     8            1\n",
              "\n",
              "[5 rows x 13 columns]"
            ]
          },
          "metadata": {
            "tags": []
          },
          "execution_count": 0
        }
      ]
    },
    {
      "cell_type": "markdown",
      "metadata": {
        "id": "r8jHCW_fUz3b"
      },
      "source": [
        "Feature                \tExplanation                                    \tMeasurement    \tRange              \n",
        "*   Age: Age of the patient in Years between [40,…, 95]  \n",
        "*   Anaemia                \tDecrease of red blood cells or hemoglobin      \tBoolean        \t0, 1              \n",
        "*   High blood pressure    \tIf a patient has hypertension      \tBoolean        \t0, 1              \n",
        "*   Creatinine phosphokinase (CPK)\tLevel of the CPK enzyme in the blood          \tmcg/L          \t[23,…, 7861]    \n",
        "*   Diabetes                \tIf the patient has diabetes                    \tBoolean        \t0, 1              \n",
        "*   Ejection fraction      \tPercentage of blood leaving                    \tPercentage      \t[14,…, 80]      \n",
        "*   Sex                    \tWoman or man                                  \tBinary          \t0, 1              \n",
        "*   Platelets              \tPlatelets in the blood                        \tkiloplatelets/mL\t[25.01,…, 850.00]\n",
        "*   Serum creatinine        \tLevel of creatinine in the blood              \tmg/dL          \t[0.50,…, 9.40]  \n",
        "*   Serum sodium            \tLevel of sodium in the blood                  \tmEq/L          \t[114,…, 148]    \n",
        "*   Smoking                \tIf the patient smokes                          \tBoolean        \t0, 1              \n",
        "*   Time                    \tFollow-up period        \tDays            \t[4,…,285]        \n",
        "*   Death event    \tIf the patient died during the follow-up period\tBoolean        \t0, 1          "
      ]
    },
    {
      "cell_type": "code",
      "metadata": {
        "colab": {
          "background_save": true,
          "base_uri": "https://localhost:8080/"
        },
        "id": "LKx9pidZUf7s",
        "outputId": "930e0237-b3c1-4b4c-dcda-082bc47343bd"
      },
      "source": [
        "df.info()"
      ],
      "execution_count": null,
      "outputs": [
        {
          "output_type": "stream",
          "text": [
            "<class 'pandas.core.frame.DataFrame'>\n",
            "RangeIndex: 299 entries, 0 to 298\n",
            "Data columns (total 13 columns):\n",
            " #   Column                    Non-Null Count  Dtype  \n",
            "---  ------                    --------------  -----  \n",
            " 0   age                       299 non-null    float64\n",
            " 1   anaemia                   299 non-null    int64  \n",
            " 2   creatinine_phosphokinase  299 non-null    int64  \n",
            " 3   diabetes                  299 non-null    int64  \n",
            " 4   ejection_fraction         299 non-null    int64  \n",
            " 5   high_blood_pressure       299 non-null    int64  \n",
            " 6   platelets                 299 non-null    float64\n",
            " 7   serum_creatinine          299 non-null    float64\n",
            " 8   serum_sodium              299 non-null    int64  \n",
            " 9   sex                       299 non-null    int64  \n",
            " 10  smoking                   299 non-null    int64  \n",
            " 11  time                      299 non-null    int64  \n",
            " 12  DEATH_EVENT               299 non-null    int64  \n",
            "dtypes: float64(3), int64(10)\n",
            "memory usage: 30.5 KB\n"
          ],
          "name": "stdout"
        }
      ]
    },
    {
      "cell_type": "code",
      "metadata": {
        "colab": {
          "background_save": true,
          "base_uri": "https://localhost:8080/"
        },
        "id": "pC0wPBT6UlPb",
        "outputId": "fd782f0a-9206-433f-c5ca-89e469c8f113"
      },
      "source": [
        "df.describe().count"
      ],
      "execution_count": null,
      "outputs": [
        {
          "output_type": "execute_result",
          "data": {
            "text/plain": [
              "<bound method DataFrame.count of               age     anaemia  ...        time  DEATH_EVENT\n",
              "count  299.000000  299.000000  ...  299.000000    299.00000\n",
              "mean    60.833893    0.431438  ...  130.260870      0.32107\n",
              "std     11.894809    0.496107  ...   77.614208      0.46767\n",
              "min     40.000000    0.000000  ...    4.000000      0.00000\n",
              "25%     51.000000    0.000000  ...   73.000000      0.00000\n",
              "50%     60.000000    0.000000  ...  115.000000      0.00000\n",
              "75%     70.000000    1.000000  ...  203.000000      1.00000\n",
              "max     95.000000    1.000000  ...  285.000000      1.00000\n",
              "\n",
              "[8 rows x 13 columns]>"
            ]
          },
          "metadata": {
            "tags": []
          },
          "execution_count": 0
        }
      ]
    },
    {
      "cell_type": "code",
      "metadata": {
        "colab": {
          "background_save": true
        },
        "id": "SW-jiOVRUqhQ"
      },
      "source": [
        "x=df.iloc[:,:-1]\n",
        "y=df.iloc[:,-1]"
      ],
      "execution_count": null,
      "outputs": []
    },
    {
      "cell_type": "code",
      "metadata": {
        "colab": {
          "background_save": true,
          "base_uri": "https://localhost:8080/",
          "height": 110
        },
        "id": "M-YdKvvpVgBy",
        "outputId": "27102c86-432f-43ca-c32a-560914026574"
      },
      "source": [
        "df.groupby('DEATH_EVENT', as_index=False)['age'].mean()"
      ],
      "execution_count": null,
      "outputs": [
        {
          "output_type": "execute_result",
          "data": {
            "text/html": [
              "<div>\n",
              "<style scoped>\n",
              "    .dataframe tbody tr th:only-of-type {\n",
              "        vertical-align: middle;\n",
              "    }\n",
              "\n",
              "    .dataframe tbody tr th {\n",
              "        vertical-align: top;\n",
              "    }\n",
              "\n",
              "    .dataframe thead th {\n",
              "        text-align: right;\n",
              "    }\n",
              "</style>\n",
              "<table border=\"1\" class=\"dataframe\">\n",
              "  <thead>\n",
              "    <tr style=\"text-align: right;\">\n",
              "      <th></th>\n",
              "      <th>DEATH_EVENT</th>\n",
              "      <th>age</th>\n",
              "    </tr>\n",
              "  </thead>\n",
              "  <tbody>\n",
              "    <tr>\n",
              "      <th>0</th>\n",
              "      <td>0</td>\n",
              "      <td>58.761906</td>\n",
              "    </tr>\n",
              "    <tr>\n",
              "      <th>1</th>\n",
              "      <td>1</td>\n",
              "      <td>65.215281</td>\n",
              "    </tr>\n",
              "  </tbody>\n",
              "</table>\n",
              "</div>"
            ],
            "text/plain": [
              "   DEATH_EVENT        age\n",
              "0            0  58.761906\n",
              "1            1  65.215281"
            ]
          },
          "metadata": {
            "tags": []
          },
          "execution_count": 0
        }
      ]
    },
    {
      "cell_type": "code",
      "metadata": {
        "colab": {
          "background_save": true
        },
        "id": "naFRKCIwWEH2"
      },
      "source": [
        "#normalize data\n",
        "from sklearn.preprocessing import MinMaxScaler\n",
        "normaliza = MinMaxScaler()\n",
        "entradas_normalizadas=normaliza.fit_transform(x)"
      ],
      "execution_count": null,
      "outputs": []
    },
    {
      "cell_type": "code",
      "metadata": {
        "colab": {
          "background_save": true
        },
        "id": "VQApECWbdJcT"
      },
      "source": [
        "from sklearn.model_selection import train_test_split\n",
        " \n",
        "x_train, x_test, y_train, y_test = train_test_split(entradas_normalizadas,y,test_size=0.3,random_state=42)"
      ],
      "execution_count": null,
      "outputs": []
    },
    {
      "cell_type": "code",
      "metadata": {
        "colab": {
          "background_save": true,
          "base_uri": "https://localhost:8080/"
        },
        "id": "0yBgyM_CdbzZ",
        "outputId": "408b037a-4c59-40f3-de3c-0be496c4453a"
      },
      "source": [
        "x_train.shape"
      ],
      "execution_count": null,
      "outputs": [
        {
          "output_type": "execute_result",
          "data": {
            "text/plain": [
              "(209, 12)"
            ]
          },
          "metadata": {
            "tags": []
          },
          "execution_count": 0
        }
      ]
    },
    {
      "cell_type": "markdown",
      "metadata": {
        "id": "mtthTQAAdyu7"
      },
      "source": [
        "# KNN"
      ]
    },
    {
      "cell_type": "code",
      "metadata": {
        "colab": {
          "background_save": true,
          "base_uri": "https://localhost:8080/",
          "height": 453
        },
        "id": "1fWq1Dv3djaj",
        "outputId": "8d78b132-13cf-4597-fcd3-e9cb2a539253"
      },
      "source": [
        "from sklearn.neighbors import KNeighborsClassifier\n",
        "clf_KNN = KNeighborsClassifier(n_neighbors=5)\n",
        "clf_KNN.fit(x_train,y_train)\n",
        "y_pred = clf_KNN.predict(x_test)\n",
        "from sklearn.metrics import confusion_matrix, classification_report\n",
        "import matplotlib.pyplot as plt\n",
        "print(classification_report(y_test,y_pred))\n",
        "from mlxtend.plotting import plot_confusion_matrix\n",
        "matrix = confusion_matrix(y_test,y_pred)\n",
        "fig,ax = plot_confusion_matrix(conf_mat=matrix)\n",
        "plt.show()"
      ],
      "execution_count": null,
      "outputs": [
        {
          "output_type": "stream",
          "text": [
            "              precision    recall  f1-score   support\n",
            "\n",
            "           0       0.61      0.96      0.74        53\n",
            "           1       0.67      0.11      0.19        37\n",
            "\n",
            "    accuracy                           0.61        90\n",
            "   macro avg       0.64      0.54      0.47        90\n",
            "weighted avg       0.63      0.61      0.51        90\n",
            "\n"
          ],
          "name": "stdout"
        },
        {
          "output_type": "display_data",
          "data": {
            "image/png": "[encoded data removed]",
            "text/plain": [
              "<Figure size 432x288 with 1 Axes>"
            ]
          },
          "metadata": {
            "tags": []
          }
        }
      ]
    },
    {
      "cell_type": "markdown",
      "metadata": {
        "id": "zOJw_XaheUN_"
      },
      "source": [
        "#Decision Tree"
      ]
    },
    {
      "cell_type": "code",
      "metadata": {
        "colab": {
          "background_save": true,
          "base_uri": "https://localhost:8080/",
          "height": 453
        },
        "id": "itgb52n5eM_u",
        "outputId": "6306ff7f-0c92-4717-a3d7-df3b3a3db1fb"
      },
      "source": [
        "from sklearn.tree import DecisionTreeClassifier\n",
        "from sklearn import metrics\n",
        "tree = DecisionTreeClassifier(random_state=1)\n",
        "tree = tree.fit(x_train,y_train)\n",
        "y_pred = tree.predict(x_test)\n",
        "print(classification_report(y_test,y_pred))\n",
        "matrix = confusion_matrix(y_test,y_pred)\n",
        "fig,ax = plot_confusion_matrix(conf_mat=matrix)\n",
        "plt.show()"
      ],
      "execution_count": null,
      "outputs": [
        {
          "output_type": "stream",
          "text": [
            "              precision    recall  f1-score   support\n",
            "\n",
            "           0       0.69      0.79      0.74        53\n",
            "           1       0.62      0.49      0.55        37\n",
            "\n",
            "    accuracy                           0.67        90\n",
            "   macro avg       0.65      0.64      0.64        90\n",
            "weighted avg       0.66      0.67      0.66        90\n",
            "\n"
          ],
          "name": "stdout"
        },
        {
          "output_type": "display_data",
          "data": {
            "image/png": "[encoded data removed]",
            "text/plain": [
              "<Figure size 432x288 with 1 Axes>"
            ]
          },
          "metadata": {
            "tags": []
          }
        }
      ]
    },
    {
      "cell_type": "markdown",
      "metadata": {
        "id": "HjT37rzaek-_"
      },
      "source": [
        "#MLP"
      ]
    },
    {
      "cell_type": "code",
      "metadata": {
        "colab": {
          "background_save": true,
          "base_uri": "https://localhost:8080/",
          "height": 453
        },
        "id": "p13hcyTCeda5",
        "outputId": "adfe721c-af82-4c73-8042-ab910278495e"
      },
      "source": [
        "from sklearn.neural_network import MLPClassifier\n",
        "clf_mp = MLPClassifier(solver='lbfgs',alpha=1e-5,hidden_layer_sizes=(5,10),random_state=1)\n",
        "clf_mp = clf_mp.fit(x_train,y_train)\n",
        "y_pred = clf_mp.predict(x_test)\n",
        "print(classification_report(y_test,y_pred))\n",
        "matrix = confusion_matrix(y_test,y_pred)\n",
        "fig,ax = plot_confusion_matrix(conf_mat=matrix)\n",
        "plt.show()"
      ],
      "execution_count": null,
      "outputs": [
        {
          "output_type": "stream",
          "text": [
            "              precision    recall  f1-score   support\n",
            "\n",
            "           0       0.68      0.96      0.80        53\n",
            "           1       0.87      0.35      0.50        37\n",
            "\n",
            "    accuracy                           0.71        90\n",
            "   macro avg       0.77      0.66      0.65        90\n",
            "weighted avg       0.76      0.71      0.67        90\n",
            "\n"
          ],
          "name": "stdout"
        },
        {
          "output_type": "display_data",
          "data": {
            "image/png": "[encoded data removed]",
            "text/plain": [
              "<Figure size 432x288 with 1 Axes>"
            ]
          },
          "metadata": {
            "tags": []
          }
        }
      ]
    },
    {
      "cell_type": "markdown",
      "metadata": {
        "id": "bJQb44hCOkw9"
      },
      "source": [
        "# SVC"
      ]
    },
    {
      "cell_type": "code",
      "metadata": {
        "colab": {
          "background_save": true,
          "base_uri": "https://localhost:8080/",
          "height": 453
        },
        "id": "9VRqxzHYIPeF",
        "outputId": "5b375287-03b7-4c3d-fc03-8476d3afbd33"
      },
      "source": [
        "from sklearn.svm import SVC\n",
        "\n",
        "clf_svc = SVC(gamma='auto',random_state=1)\n",
        "clf_svc = clf_svc.fit(x_train,y_train)\n",
        "y_pred = clf_svc.predict(x_test)\n",
        "print(classification_report(y_test,y_pred))\n",
        "matrix = confusion_matrix(y_test,y_pred)\n",
        "fig,ax = plot_confusion_matrix(conf_mat=matrix)\n",
        "plt.show()"
      ],
      "execution_count": null,
      "outputs": [
        {
          "output_type": "stream",
          "text": [
            "              precision    recall  f1-score   support\n",
            "\n",
            "           0       0.60      1.00      0.75        53\n",
            "           1       1.00      0.03      0.05        37\n",
            "\n",
            "    accuracy                           0.60        90\n",
            "   macro avg       0.80      0.51      0.40        90\n",
            "weighted avg       0.76      0.60      0.46        90\n",
            "\n"
          ],
          "name": "stdout"
        },
        {
          "output_type": "display_data",
          "data": {
            "image/png": "[encoded data removed]",
            "text/plain": [
              "<Figure size 432x288 with 1 Axes>"
            ]
          },
          "metadata": {
            "tags": []
          }
        }
      ]
    },
    {
      "cell_type": "markdown",
      "metadata": {
        "id": "8_KVNa_pOibf"
      },
      "source": [
        "# NuSVC"
      ]
    },
    {
      "cell_type": "code",
      "metadata": {
        "colab": {
          "background_save": true,
          "base_uri": "https://localhost:8080/",
          "height": 453
        },
        "id": "lcgwDnXVJY3y",
        "outputId": "bea5760e-502f-43d2-fb35-a799bc8238db"
      },
      "source": [
        "from sklearn.svm import NuSVC\n",
        "\n",
        "clf_nusvc = NuSVC(gamma='auto',random_state=1)\n",
        "clf_nusvc = clf_nusvc.fit(x_train,y_train)\n",
        "y_pred = clf_nusvc.predict(x_test)\n",
        "print(classification_report(y_test,y_pred))\n",
        "matrix = confusion_matrix(y_test,y_pred)\n",
        "fig,ax = plot_confusion_matrix(conf_mat=matrix)\n",
        "plt.show()"
      ],
      "execution_count": null,
      "outputs": [
        {
          "output_type": "stream",
          "text": [
            "              precision    recall  f1-score   support\n",
            "\n",
            "           0       0.71      0.91      0.79        53\n",
            "           1       0.77      0.46      0.58        37\n",
            "\n",
            "    accuracy                           0.72        90\n",
            "   macro avg       0.74      0.68      0.68        90\n",
            "weighted avg       0.73      0.72      0.70        90\n",
            "\n"
          ],
          "name": "stdout"
        },
        {
          "output_type": "display_data",
          "data": {
            "image/png": "[encoded data removed]",
            "text/plain": [
              "<Figure size 432x288 with 1 Axes>"
            ]
          },
          "metadata": {
            "tags": []
          }
        }
      ]
    },
    {
      "cell_type": "markdown",
      "metadata": {
        "id": "RDXc9sfwRIhz"
      },
      "source": [
        "# Linear SVC"
      ]
    },
    {
      "cell_type": "code",
      "metadata": {
        "colab": {
          "background_save": true,
          "base_uri": "https://localhost:8080/",
          "height": 453
        },
        "id": "1JrhzngdPxnI",
        "outputId": "a9b7f3a5-1db7-4180-ec86-a164f949f16f"
      },
      "source": [
        "from sklearn.svm import SVC\n",
        "\n",
        "clf_svclinear = SVC(kernel=\"linear\",random_state=1)\n",
        "clf_svclinear = clf_svclinear.fit(x_train,y_train)\n",
        "y_pred = clf_svclinear.predict(x_test)\n",
        "print(classification_report(y_test,y_pred))\n",
        "matrix = confusion_matrix(y_test,y_pred)\n",
        "fig,ax = plot_confusion_matrix(conf_mat=matrix)\n",
        "plt.show()"
      ],
      "execution_count": null,
      "outputs": [
        {
          "output_type": "stream",
          "text": [
            "              precision    recall  f1-score   support\n",
            "\n",
            "           0       0.73      0.92      0.82        53\n",
            "           1       0.83      0.51      0.63        37\n",
            "\n",
            "    accuracy                           0.76        90\n",
            "   macro avg       0.78      0.72      0.72        90\n",
            "weighted avg       0.77      0.76      0.74        90\n",
            "\n"
          ],
          "name": "stdout"
        },
        {
          "output_type": "display_data",
          "data": {
            "image/png": "[encoded data removed]",
            "text/plain": [
              "<Figure size 432x288 with 1 Axes>"
            ]
          },
          "metadata": {
            "tags": []
          }
        }
      ]
    },
    {
      "cell_type": "markdown",
      "metadata": {
        "id": "LXfaYR0hPnuh"
      },
      "source": [
        "# Gaussian Process"
      ]
    },
    {
      "cell_type": "code",
      "metadata": {
        "colab": {
          "background_save": true,
          "base_uri": "https://localhost:8080/",
          "height": 453
        },
        "id": "paIqTLOnOUc3",
        "outputId": "7d421859-8e0e-4676-c359-d9e1c3b23cc7"
      },
      "source": [
        "from sklearn.gaussian_process import GaussianProcessClassifier\n",
        "from sklearn.gaussian_process.kernels import RBF\n",
        "clf_gpc = GaussianProcessClassifier(1.0 * RBF(1.0),random_state=1)\n",
        "clf_gpc = clf_gpc.fit(x_train,y_train)\n",
        "y_pred = clf_gpc.predict(x_test)\n",
        "print(classification_report(y_test,y_pred))\n",
        "matrix = confusion_matrix(y_test,y_pred)\n",
        "fig,ax = plot_confusion_matrix(conf_mat=matrix)\n",
        "plt.show()"
      ],
      "execution_count": null,
      "outputs": [
        {
          "output_type": "stream",
          "text": [
            "              precision    recall  f1-score   support\n",
            "\n",
            "           0       0.75      0.94      0.83        53\n",
            "           1       0.87      0.54      0.67        37\n",
            "\n",
            "    accuracy                           0.78        90\n",
            "   macro avg       0.81      0.74      0.75        90\n",
            "weighted avg       0.80      0.78      0.76        90\n",
            "\n"
          ],
          "name": "stdout"
        },
        {
          "output_type": "display_data",
          "data": {
            "image/png": "[encoded data removed]",
            "text/plain": [
              "<Figure size 432x288 with 1 Axes>"
            ]
          },
          "metadata": {
            "tags": []
          }
        }
      ]
    },
    {
      "cell_type": "markdown",
      "metadata": {
        "id": "N7-QZCahSPMZ"
      },
      "source": [
        "# Random Forest"
      ]
    },
    {
      "cell_type": "code",
      "metadata": {
        "colab": {
          "background_save": true,
          "base_uri": "https://localhost:8080/",
          "height": 453
        },
        "id": "zTuhiq3nOXZK",
        "outputId": "70824f7f-59b6-4ce8-a106-103e82147b61"
      },
      "source": [
        "from sklearn.ensemble import RandomForestClassifier\n",
        "clf_rfc = RandomForestClassifier(random_state=1)\n",
        "clf_rfc = clf_rfc.fit(x_train,y_train)\n",
        "y_pred = clf_rfc.predict(x_test)\n",
        "print(classification_report(y_test,y_pred))\n",
        "matrix = confusion_matrix(y_test,y_pred)\n",
        "fig,ax = plot_confusion_matrix(conf_mat=matrix)\n",
        "plt.show()"
      ],
      "execution_count": null,
      "outputs": [
        {
          "output_type": "stream",
          "text": [
            "              precision    recall  f1-score   support\n",
            "\n",
            "           0       0.74      0.92      0.82        53\n",
            "           1       0.83      0.54      0.66        37\n",
            "\n",
            "    accuracy                           0.77        90\n",
            "   macro avg       0.79      0.73      0.74        90\n",
            "weighted avg       0.78      0.77      0.75        90\n",
            "\n"
          ],
          "name": "stdout"
        },
        {
          "output_type": "display_data",
          "data": {
            "image/png": "[encoded data removed]",
            "text/plain": [
              "<Figure size 432x288 with 1 Axes>"
            ]
          },
          "metadata": {
            "tags": []
          }
        }
      ]
    },
    {
      "cell_type": "markdown",
      "metadata": {
        "id": "Oi5sc2QnTSB6"
      },
      "source": [
        "# Ada Boost"
      ]
    },
    {
      "cell_type": "code",
      "metadata": {
        "colab": {
          "background_save": true,
          "base_uri": "https://localhost:8080/",
          "height": 453
        },
        "id": "r3y8W20MRbly",
        "outputId": "76e32975-10c1-4dfd-969d-22608fcacd27"
      },
      "source": [
        "from sklearn.ensemble import AdaBoostClassifier\n",
        "clf_abc = AdaBoostClassifier(random_state=1)\n",
        "clf_abc = clf_abc.fit(x_train,y_train)\n",
        "y_pred = clf_abc.predict(x_test)\n",
        "print(classification_report(y_test,y_pred))\n",
        "matrix = confusion_matrix(y_test,y_pred)\n",
        "fig,ax = plot_confusion_matrix(conf_mat=matrix)\n",
        "plt.show()"
      ],
      "execution_count": null,
      "outputs": [
        {
          "output_type": "stream",
          "text": [
            "              precision    recall  f1-score   support\n",
            "\n",
            "           0       0.70      0.89      0.78        53\n",
            "           1       0.74      0.46      0.57        37\n",
            "\n",
            "    accuracy                           0.71        90\n",
            "   macro avg       0.72      0.67      0.68        90\n",
            "weighted avg       0.72      0.71      0.69        90\n",
            "\n"
          ],
          "name": "stdout"
        },
        {
          "output_type": "display_data",
          "data": {
            "image/png": "[encoded data removed]",
            "text/plain": [
              "<Figure size 432x288 with 1 Axes>"
            ]
          },
          "metadata": {
            "tags": []
          }
        }
      ]
    },
    {
      "cell_type": "markdown",
      "metadata": {
        "id": "hPov7gQUTaP3"
      },
      "source": [
        "# Quadratic Discriminant Analysis"
      ]
    },
    {
      "cell_type": "code",
      "metadata": {
        "colab": {
          "background_save": true,
          "base_uri": "https://localhost:8080/",
          "height": 453
        },
        "id": "zIOPWzLeOqVh",
        "outputId": "e45241ab-c6a0-4b50-e731-279f70b7f07d"
      },
      "source": [
        "from sklearn.discriminant_analysis import QuadraticDiscriminantAnalysis\n",
        "clf_qda = QuadraticDiscriminantAnalysis()\n",
        "clf_qda = clf_qda.fit(x_train,y_train)\n",
        "y_pred = clf_qda.predict(x_test)\n",
        "print(classification_report(y_test,y_pred))\n",
        "matrix = confusion_matrix(y_test,y_pred)\n",
        "fig,ax = plot_confusion_matrix(conf_mat=matrix)\n",
        "plt.show()"
      ],
      "execution_count": null,
      "outputs": [
        {
          "output_type": "stream",
          "text": [
            "              precision    recall  f1-score   support\n",
            "\n",
            "           0       0.69      0.91      0.78        53\n",
            "           1       0.75      0.41      0.53        37\n",
            "\n",
            "    accuracy                           0.70        90\n",
            "   macro avg       0.72      0.66      0.65        90\n",
            "weighted avg       0.71      0.70      0.68        90\n",
            "\n"
          ],
          "name": "stdout"
        },
        {
          "output_type": "display_data",
          "data": {
            "image/png": "[encoded data removed]",
            "text/plain": [
              "<Figure size 432x288 with 1 Axes>"
            ]
          },
          "metadata": {
            "tags": []
          }
        }
      ]
    },
    {
      "cell_type": "markdown",
      "metadata": {
        "id": "KterfiMVT4Zp"
      },
      "source": [
        "# GaussianNB"
      ]
    },
    {
      "cell_type": "code",
      "metadata": {
        "colab": {
          "background_save": true,
          "base_uri": "https://localhost:8080/",
          "height": 453
        },
        "id": "NIpg6yeKOsRq",
        "outputId": "96b9b72a-23e7-43a3-ebc1-f833d94e015a"
      },
      "source": [
        "from sklearn.naive_bayes import GaussianNB\n",
        "clf_gnb = GaussianNB()\n",
        "clf_gnb = clf_gnb.fit(x_train,y_train)\n",
        "y_pred = clf_gnb.predict(x_test)\n",
        "print(classification_report(y_test,y_pred))\n",
        "matrix = confusion_matrix(y_test,y_pred)\n",
        "fig,ax = plot_confusion_matrix(conf_mat=matrix)\n",
        "plt.show()"
      ],
      "execution_count": null,
      "outputs": [
        {
          "output_type": "stream",
          "text": [
            "              precision    recall  f1-score   support\n",
            "\n",
            "           0       0.69      0.92      0.79        53\n",
            "           1       0.79      0.41      0.54        37\n",
            "\n",
            "    accuracy                           0.71        90\n",
            "   macro avg       0.74      0.66      0.66        90\n",
            "weighted avg       0.73      0.71      0.69        90\n",
            "\n"
          ],
          "name": "stdout"
        },
        {
          "output_type": "display_data",
          "data": {
            "image/png": "[encoded data removed]",
            "text/plain": [
              "<Figure size 432x288 with 1 Axes>"
            ]
          },
          "metadata": {
            "tags": []
          }
        }
      ]
    },
    {
      "cell_type": "markdown",
      "metadata": {
        "id": "y_IJ8Fp8T-jr"
      },
      "source": [
        "# Best model"
      ]
    },
    {
      "cell_type": "code",
      "metadata": {
        "colab": {
          "background_save": true,
          "base_uri": "https://localhost:8080/"
        },
        "id": "PW0cLUjeT1Va",
        "outputId": "c51e79a2-ae25-4855-a939-a2f54a10fd87"
      },
      "source": [
        "import joblib\n",
        "nome_arquivo = 'bestmodel.sav'\n",
        "joblib.dump(clf_gpc,nome_arquivo)"
      ],
      "execution_count": null,
      "outputs": [
        {
          "output_type": "execute_result",
          "data": {
            "text/plain": [
              "['bestmodel.sav']"
            ]
          },
          "metadata": {
            "tags": []
          },
          "execution_count": 0
        }
      ]
    },
    {
      "cell_type": "code",
      "metadata": {
        "colab": {
          "background_save": true,
          "base_uri": "https://localhost:8080/"
        },
        "id": "HGsdGReAUoOk",
        "outputId": "63674bf4-3064-4fff-d53a-8c8d8536e72a"
      },
      "source": [
        "!pip install flask-ngrok"
      ],
      "execution_count": null,
      "outputs": [
        {
          "output_type": "stream",
          "text": [
            "Collecting flask-ngrok\n",
            "  Downloading https://files.pythonhosted.org/packages/af/6c/f54cb686ad1129e27d125d182f90f52b32f284e6c8df58c1bae54fa1adbc/flask_ngrok-0.0.25-py3-none-any.whl\n",
            "Requirement already satisfied: Flask>=0.8 in /usr/local/lib/python3.6/dist-packages (from flask-ngrok) (1.1.2)\n",
            "Requirement already satisfied: requests in /usr/local/lib/python3.6/dist-packages (from flask-ngrok) (2.23.0)\n",
            "Requirement already satisfied: Jinja2>=2.10.1 in /usr/local/lib/python3.6/dist-packages (from Flask>=0.8->flask-ngrok) (2.11.2)\n",
            "Requirement already satisfied: click>=5.1 in /usr/local/lib/python3.6/dist-packages (from Flask>=0.8->flask-ngrok) (7.1.2)\n",
            "Requirement already satisfied: itsdangerous>=0.24 in /usr/local/lib/python3.6/dist-packages (from Flask>=0.8->flask-ngrok) (1.1.0)\n",
            "Requirement already satisfied: Werkzeug>=0.15 in /usr/local/lib/python3.6/dist-packages (from Flask>=0.8->flask-ngrok) (1.0.1)\n",
            "Requirement already satisfied: idna<3,>=2.5 in /usr/local/lib/python3.6/dist-packages (from requests->flask-ngrok) (2.10)\n",
            "Requirement already satisfied: certifi>=2017.4.17 in /usr/local/lib/python3.6/dist-packages (from requests->flask-ngrok) (2020.11.8)\n",
            "Requirement already satisfied: urllib3!=1.25.0,!=1.25.1,<1.26,>=1.21.1 in /usr/local/lib/python3.6/dist-packages (from requests->flask-ngrok) (1.24.3)\n",
            "Requirement already satisfied: chardet<4,>=3.0.2 in /usr/local/lib/python3.6/dist-packages (from requests->flask-ngrok) (3.0.4)\n",
            "Requirement already satisfied: MarkupSafe>=0.23 in /usr/local/lib/python3.6/dist-packages (from Jinja2>=2.10.1->Flask>=0.8->flask-ngrok) (1.1.1)\n",
            "Installing collected packages: flask-ngrok\n",
            "Successfully installed flask-ngrok-0.0.25\n"
          ],
          "name": "stdout"
        }
      ]
    },
    {
      "cell_type": "code",
      "metadata": {
        "colab": {
          "background_save": true
        },
        "id": "Hdn19ur4UtRy"
      },
      "source": [
        "import numpy as np\n",
        "from flask_ngrok import run_with_ngrok\n",
        "import joblib\n",
        "from flask import Flask,request,jsonify,render_template\n",
        "app = Flask(__name__,template_folder='/content/Flask_Heart_attack/templates')\n",
        "run_with_ngrok(app)   #starts ngrok when the app is run"
      ],
      "execution_count": null,
      "outputs": []
    },
    {
      "cell_type": "code",
      "metadata": {
        "colab": {
          "background_save": true
        },
        "id": "bUb_xBqX36xs"
      },
      "source": [
        "def previsao_heart_attack(lista_valores_formulario):\n",
        "    prever = np.array(lista_valores_formulario).reshape(1,12)\n",
        "    modelo_salvo = joblib.load('/content/Flask_Heart_attack/bestmodel.sav')\n",
        "    resultado = modelo_salvo.predict(prever)\n",
        "    return resultado[0]"
      ],
      "execution_count": null,
      "outputs": []
    },
    {
      "cell_type": "code",
      "metadata": {
        "colab": {
          "background_save": true
        },
        "id": "mkc7nrsS4T7g"
      },
      "source": [
        "@app.route('/')\n",
        "def home():\n",
        "    return render_template('index.html')"
      ],
      "execution_count": null,
      "outputs": []
    },
    {
      "cell_type": "code",
      "metadata": {
        "colab": {
          "background_save": true
        },
        "id": "PwEHmkPF4Yx0"
      },
      "source": [
        "@app.route('/result',methods=['POST'])\n",
        "def result():\n",
        "    if request.method=='POST':\n",
        "        lista_formulario = request.form.to_dict()\n",
        "        lista_formulario=list(lista_formulario.values())\n",
        "        lista_formulario=list(map(lambda x : float(x) ,lista_formulario))\n",
        "        resultado = previsao_heart_attack(lista_formulario)\n",
        "        if int(resultado)==1:\n",
        "             previsa='Morte por ataque cardiaco'\n",
        "        else:\n",
        "             previsa = 'Vivo e passa bem'\n",
        "        return render_template('resultado.html',previsao=previsa)"
      ],
      "execution_count": null,
      "outputs": []
    },
    {
      "cell_type": "code",
      "metadata": {
        "colab": {
          "base_uri": "https://localhost:8080/"
        },
        "id": "Fzm1vQRC5Ls6",
        "outputId": "19bc550b-23e2-46b3-8901-a03d2431e4a8"
      },
      "source": [
        "app.run()"
      ],
      "execution_count": null,
      "outputs": [
        {
          "output_type": "stream",
          "text": [
            " * Serving Flask app \"__main__\" (lazy loading)\n",
            " * Environment: production\n",
            "\u001b[31m   WARNING: This is a development server. Do not use it in a production deployment.\u001b[0m\n",
            "\u001b[2m   Use a production WSGI server instead.\u001b[0m\n",
            " * Debug mode: off\n"
          ],
          "name": "stdout"
        },
        {
          "output_type": "stream",
          "text": [
            " * Running on http://127.0.0.1:5000/ (Press CTRL+C to quit)\n"
          ],
          "name": "stderr"
        },
        {
          "output_type": "stream",
          "text": [
            " * Running on http://ac1712637a70.ngrok.io\n",
            " * Traffic stats available on http://127.0.0.1:4040\n"
          ],
          "name": "stdout"
        },
        {
          "output_type": "stream",
          "text": [
            "127.0.0.1 - - [18/Nov/2020 15:37:04] \"\u001b[37mGET / HTTP/1.1\u001b[0m\" 200 -\n",
            "127.0.0.1 - - [18/Nov/2020 15:37:04] \"\u001b[33mGET /favicon.ico HTTP/1.1\u001b[0m\" 404 -\n"
          ],
          "name": "stderr"
        }
      ]
    }
  ]
}