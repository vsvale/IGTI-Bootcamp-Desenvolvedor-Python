{
  "nbformat": 4,
  "nbformat_minor": 0,
  "metadata": {
    "colab": {
      "name": "Numpy.ipynb",
      "provenance": [],
      "collapsed_sections": [
        "OrXWgOQlosvB",
        "xhchaOwS1W3d",
        "yYvxrz3Y1Zsw",
        "GUpjHcG5jQtX",
        "E2FpecA3phKM",
        "jyXCb3QCpFP-",
        "OLuPe7aEpJB7",
        "AdCb9WT6pUkz",
        "dQb547U33_OP",
        "Vq2Nw2LwpdH5",
        "dTaMstCqmEW_",
        "1aLbxlGcmgE7",
        "N_qWz6U44qrh",
        "QIcGKjYJ6_Hi",
        "PyRSGFSXpqpW",
        "vxwP3kcgpxED",
        "G5qA0RmEp48x",
        "pD251vKyrcnq",
        "JFaAGg4gpt5V",
        "tsLnzad3DBAE",
        "KqGpdvwpDhH3",
        "UdxYoS4CqEcz",
        "3MwJdoNMpn0M",
        "u7Q9KCZIK2Bw",
        "s3hg80puD8B4",
        "r_pbrjue1pia",
        "dPdRFHxJHS7-",
        "V9FjFEhcIkz3",
        "KnTIN3GdFv5g",
        "aMmEGMJK-sD6",
        "U4bQ98imUtV1",
        "awHTONSLaoS2",
        "HsMkZNX8khK5",
        "C4gE_sp4klAO",
        "UdIcojHVng8w"
      ],
      "toc_visible": true,
      "authorship_tag": "ABX9TyOBavZfZJA1YuVxXFwlpJe4",
      "include_colab_link": true
    },
    "kernelspec": {
      "name": "python3",
      "display_name": "Python 3"
    }
  },
  "cells": [
    {
      "cell_type": "markdown",
      "metadata": {
        "id": "view-in-github",
        "colab_type": "text"
      },
      "source": [
        "<a href=\"https://colab.research.google.com/github/vsvale/IGTI-Bootcamp-Desenvolvedor-Python/blob/main/IGTI_Mod_3_Numpy.ipynb\" target=\"_parent\"><img src=\"https://colab.research.google.com/assets/colab-badge.svg\" alt=\"Open In Colab\"/></a>"
      ]
    },
    {
      "cell_type": "code",
      "metadata": {
        "id": "JyIKHPCI7TNE"
      },
      "source": [
        "import numpy as np"
      ],
      "execution_count": null,
      "outputs": []
    },
    {
      "cell_type": "markdown",
      "metadata": {
        "id": "OrXWgOQlosvB"
      },
      "source": [
        "# List to array\n",
        "np.array"
      ]
    },
    {
      "cell_type": "code",
      "metadata": {
        "id": "SQzOOtlEhkCM",
        "colab": {
          "base_uri": "https://localhost:8080/"
        },
        "outputId": "3e65d6ef-52ce-43f4-9bfa-6b8909fe11be"
      },
      "source": [
        "list_a = [[1,2,3],[2,3,4],[3,4,5]]\n",
        "a = np.array(list_a)\n",
        "print(a,a.shape,'\\n')"
      ],
      "execution_count": null,
      "outputs": [
        {
          "output_type": "stream",
          "text": [
            "[[1 2 3]\n",
            " [2 3 4]\n",
            " [3 4 5]] (3, 3) \n",
            "\n"
          ],
          "name": "stdout"
        }
      ]
    },
    {
      "cell_type": "markdown",
      "metadata": {
        "id": "xhchaOwS1W3d"
      },
      "source": [
        "# Shape"
      ]
    },
    {
      "cell_type": "code",
      "metadata": {
        "id": "uuPQPupWhnBF",
        "colab": {
          "base_uri": "https://localhost:8080/"
        },
        "outputId": "324076d0-1977-4db6-a58c-b63feb789913"
      },
      "source": [
        "b = np.array([1,2,3,4])\n",
        "print(b,b.shape,'\\n') #(row,column)"
      ],
      "execution_count": null,
      "outputs": [
        {
          "output_type": "stream",
          "text": [
            "[1 2 3 4] (4,) \n",
            "\n"
          ],
          "name": "stdout"
        }
      ]
    },
    {
      "cell_type": "markdown",
      "metadata": {
        "id": "yYvxrz3Y1Zsw"
      },
      "source": [
        "# Ndim\n",
        "Número de dimensões"
      ]
    },
    {
      "cell_type": "code",
      "metadata": {
        "id": "j-_GH2rlhq7E",
        "colab": {
          "base_uri": "https://localhost:8080/"
        },
        "outputId": "2f8eee55-9124-4490-d72f-7dad8b55e822"
      },
      "source": [
        "#matrix 4x3x2\n",
        "d = np.array([[[1,2],[3,4],[5,6]],[[7,8],[9,0],[1,2]],[[3,4],[5,6],[7,8]],[[9,0],[8,7],[6,5]]])\n",
        "print(d,d.shape,d.ndim)# 3 dimension (x,y,z)"
      ],
      "execution_count": null,
      "outputs": [
        {
          "output_type": "stream",
          "text": [
            "[[[1 2]\n",
            "  [3 4]\n",
            "  [5 6]]\n",
            "\n",
            " [[7 8]\n",
            "  [9 0]\n",
            "  [1 2]]\n",
            "\n",
            " [[3 4]\n",
            "  [5 6]\n",
            "  [7 8]]\n",
            "\n",
            " [[9 0]\n",
            "  [8 7]\n",
            "  [6 5]]] (4, 3, 2) 3\n"
          ],
          "name": "stdout"
        }
      ]
    },
    {
      "cell_type": "markdown",
      "metadata": {
        "id": "GUpjHcG5jQtX"
      },
      "source": [
        "#Range array"
      ]
    },
    {
      "cell_type": "code",
      "metadata": {
        "id": "8sdZG6dujT9v",
        "colab": {
          "base_uri": "https://localhost:8080/"
        },
        "outputId": "996bd7b6-23a3-4c44-d9b6-dad6e3b2aa4a"
      },
      "source": [
        "arrayr= np.arange(15)\n",
        "arrayr"
      ],
      "execution_count": null,
      "outputs": [
        {
          "output_type": "execute_result",
          "data": {
            "text/plain": [
              "array([ 0,  1,  2,  3,  4,  5,  6,  7,  8,  9, 10, 11, 12, 13, 14])"
            ]
          },
          "metadata": {
            "tags": []
          },
          "execution_count": 280
        }
      ]
    },
    {
      "cell_type": "markdown",
      "metadata": {
        "id": "E2FpecA3phKM"
      },
      "source": [
        "#Linear space"
      ]
    },
    {
      "cell_type": "code",
      "metadata": {
        "id": "nZLFmIO4hpal",
        "colab": {
          "base_uri": "https://localhost:8080/"
        },
        "outputId": "7d5c2601-d2a0-4797-ee96-4c4803cb1788"
      },
      "source": [
        "np.linspace(0, 10, 5)"
      ],
      "execution_count": null,
      "outputs": [
        {
          "output_type": "execute_result",
          "data": {
            "text/plain": [
              "array([ 0. ,  2.5,  5. ,  7.5, 10. ])"
            ]
          },
          "metadata": {
            "tags": []
          },
          "execution_count": 281
        }
      ]
    },
    {
      "cell_type": "markdown",
      "metadata": {
        "id": "jyXCb3QCpFP-"
      },
      "source": [
        "#Zeros"
      ]
    },
    {
      "cell_type": "code",
      "metadata": {
        "id": "yasVBlxkFj0C",
        "colab": {
          "base_uri": "https://localhost:8080/"
        },
        "outputId": "980608db-b89d-444d-dcc0-9d43c9da1525"
      },
      "source": [
        "zero = np.zeros((2,2)); zero #default floats"
      ],
      "execution_count": null,
      "outputs": [
        {
          "output_type": "execute_result",
          "data": {
            "text/plain": [
              "array([[0., 0.],\n",
              "       [0., 0.]])"
            ]
          },
          "metadata": {
            "tags": []
          },
          "execution_count": 282
        }
      ]
    },
    {
      "cell_type": "code",
      "metadata": {
        "id": "MIEsPQXLkAXF",
        "colab": {
          "base_uri": "https://localhost:8080/"
        },
        "outputId": "925932d2-5489-41b3-c6a4-3115143b5cd9"
      },
      "source": [
        "zero2 = np.zeros(a.shape,dtype=int); zero2 #shape of a and int 0"
      ],
      "execution_count": null,
      "outputs": [
        {
          "output_type": "execute_result",
          "data": {
            "text/plain": [
              "array([[0, 0, 0],\n",
              "       [0, 0, 0],\n",
              "       [0, 0, 0]])"
            ]
          },
          "metadata": {
            "tags": []
          },
          "execution_count": 283
        }
      ]
    },
    {
      "cell_type": "markdown",
      "metadata": {
        "id": "OLuPe7aEpJB7"
      },
      "source": [
        "#Ones"
      ]
    },
    {
      "cell_type": "code",
      "metadata": {
        "id": "sTnzYg0dpRIR",
        "colab": {
          "base_uri": "https://localhost:8080/"
        },
        "outputId": "db0c6aa1-2a8e-4d1e-9b38-abe1e9323ae6"
      },
      "source": [
        "#matriz 1\n",
        "one = np.ones((2,2)); one"
      ],
      "execution_count": null,
      "outputs": [
        {
          "output_type": "execute_result",
          "data": {
            "text/plain": [
              "array([[1., 1.],\n",
              "       [1., 1.]])"
            ]
          },
          "metadata": {
            "tags": []
          },
          "execution_count": 284
        }
      ]
    },
    {
      "cell_type": "markdown",
      "metadata": {
        "id": "AdCb9WT6pUkz"
      },
      "source": [
        "#Eye"
      ]
    },
    {
      "cell_type": "code",
      "metadata": {
        "id": "O8nG4ksupX_3",
        "colab": {
          "base_uri": "https://localhost:8080/"
        },
        "outputId": "68729b24-2194-4a0c-b64a-58a3fd2884bf"
      },
      "source": [
        "#matriz identidade\n",
        "identidade = np.eye(3)\n",
        "print(identidade)"
      ],
      "execution_count": null,
      "outputs": [
        {
          "output_type": "stream",
          "text": [
            "[[1. 0. 0.]\n",
            " [0. 1. 0.]\n",
            " [0. 0. 1.]]\n"
          ],
          "name": "stdout"
        }
      ]
    },
    {
      "cell_type": "markdown",
      "metadata": {
        "id": "dQb547U33_OP"
      },
      "source": [
        "#Diag"
      ]
    },
    {
      "cell_type": "code",
      "metadata": {
        "id": "ltwbltTgkkNp",
        "colab": {
          "base_uri": "https://localhost:8080/"
        },
        "outputId": "97111747-2866-4099-b23d-3a6a3f2e15ed"
      },
      "source": [
        "diago = np.diag((1,2,3,4)); diago"
      ],
      "execution_count": null,
      "outputs": [
        {
          "output_type": "execute_result",
          "data": {
            "text/plain": [
              "array([[1, 0, 0, 0],\n",
              "       [0, 2, 0, 0],\n",
              "       [0, 0, 3, 0],\n",
              "       [0, 0, 0, 4]])"
            ]
          },
          "metadata": {
            "tags": []
          },
          "execution_count": 286
        }
      ]
    },
    {
      "cell_type": "markdown",
      "metadata": {
        "id": "Vq2Nw2LwpdH5"
      },
      "source": [
        "# Random"
      ]
    },
    {
      "cell_type": "code",
      "metadata": {
        "id": "SlgFG_JlhESH",
        "colab": {
          "base_uri": "https://localhost:8080/"
        },
        "outputId": "645ea5ec-2fd0-4fc9-e0aa-74b520ecce40"
      },
      "source": [
        "#random matrix\n",
        "rando = np.random.random((2,2)); rando\n"
      ],
      "execution_count": null,
      "outputs": [
        {
          "output_type": "execute_result",
          "data": {
            "text/plain": [
              "array([[0.01525754, 0.10425587],\n",
              "       [0.85071403, 0.98344991]])"
            ]
          },
          "metadata": {
            "tags": []
          },
          "execution_count": 287
        }
      ]
    },
    {
      "cell_type": "code",
      "metadata": {
        "id": "sUsRDKsVlDfn",
        "colab": {
          "base_uri": "https://localhost:8080/"
        },
        "outputId": "56df26d0-cefd-4370-dbde-e3b49ae7ad53"
      },
      "source": [
        "randu = np.random.rand(5); randu"
      ],
      "execution_count": null,
      "outputs": [
        {
          "output_type": "execute_result",
          "data": {
            "text/plain": [
              "array([0.73076031, 0.96379903, 0.93191879, 0.99213847, 0.07867407])"
            ]
          },
          "metadata": {
            "tags": []
          },
          "execution_count": 288
        }
      ]
    },
    {
      "cell_type": "code",
      "metadata": {
        "id": "Yonoj30olp57",
        "colab": {
          "base_uri": "https://localhost:8080/"
        },
        "outputId": "ba8f55cc-6da7-4016-b8f2-0255b54787b2"
      },
      "source": [
        "randn = np.random.randn(3); randn #normal distribution (Gaussian)"
      ],
      "execution_count": null,
      "outputs": [
        {
          "output_type": "execute_result",
          "data": {
            "text/plain": [
              "array([ 0.12650712, -1.23057693,  0.96396574])"
            ]
          },
          "metadata": {
            "tags": []
          },
          "execution_count": 289
        }
      ]
    },
    {
      "cell_type": "markdown",
      "metadata": {
        "id": "dTaMstCqmEW_"
      },
      "source": [
        "# Empty"
      ]
    },
    {
      "cell_type": "code",
      "metadata": {
        "id": "_PZtAuHSmExZ",
        "colab": {
          "base_uri": "https://localhost:8080/"
        },
        "outputId": "16e522a8-32ec-4167-af12-b8d44401c365"
      },
      "source": [
        "void = np.empty((3,2)); void"
      ],
      "execution_count": null,
      "outputs": [
        {
          "output_type": "execute_result",
          "data": {
            "text/plain": [
              "array([[4.9e-324, 9.9e-324],\n",
              "       [1.5e-323, 2.0e-323],\n",
              "       [2.5e-323, 3.0e-323]])"
            ]
          },
          "metadata": {
            "tags": []
          },
          "execution_count": 290
        }
      ]
    },
    {
      "cell_type": "markdown",
      "metadata": {
        "id": "1aLbxlGcmgE7"
      },
      "source": [
        "# Tile"
      ]
    },
    {
      "cell_type": "code",
      "metadata": {
        "id": "qPyjGi98mgUx",
        "colab": {
          "base_uri": "https://localhost:8080/"
        },
        "outputId": "6150e889-a1a7-4454-a66c-d6d45c2cdd38"
      },
      "source": [
        "azulej = np.array([['⬛','⬜']])\n",
        "np.tile(azulej,3)"
      ],
      "execution_count": null,
      "outputs": [
        {
          "output_type": "execute_result",
          "data": {
            "text/plain": [
              "array([['⬛', '⬜', '⬛', '⬜', '⬛', '⬜']], dtype='<U1')"
            ]
          },
          "metadata": {
            "tags": []
          },
          "execution_count": 291
        }
      ]
    },
    {
      "cell_type": "code",
      "metadata": {
        "id": "KV1x60mMo2Wh",
        "colab": {
          "base_uri": "https://localhost:8080/"
        },
        "outputId": "a128a09c-ebd6-4dc5-e955-439a3ed49dba"
      },
      "source": [
        "np.tile(azulej,(2,2))"
      ],
      "execution_count": null,
      "outputs": [
        {
          "output_type": "execute_result",
          "data": {
            "text/plain": [
              "array([['⬛', '⬜', '⬛', '⬜'],\n",
              "       ['⬛', '⬜', '⬛', '⬜']], dtype='<U1')"
            ]
          },
          "metadata": {
            "tags": []
          },
          "execution_count": 292
        }
      ]
    },
    {
      "cell_type": "markdown",
      "metadata": {
        "id": "N_qWz6U44qrh"
      },
      "source": [
        "# Dtype"
      ]
    },
    {
      "cell_type": "code",
      "metadata": {
        "id": "SLFbNaVh4rdX",
        "colab": {
          "base_uri": "https://localhost:8080/"
        },
        "outputId": "c68a8005-cd37-4036-9867-32bc5ae0291d"
      },
      "source": [
        "wtype = np.array([-1,0,1,2], dtype='float'); wtype"
      ],
      "execution_count": null,
      "outputs": [
        {
          "output_type": "execute_result",
          "data": {
            "text/plain": [
              "array([-1.,  0.,  1.,  2.])"
            ]
          },
          "metadata": {
            "tags": []
          },
          "execution_count": 293
        }
      ]
    },
    {
      "cell_type": "code",
      "metadata": {
        "id": "GdsO_FlG5Eur",
        "colab": {
          "base_uri": "https://localhost:8080/"
        },
        "outputId": "50cdccd2-d720-48f2-a312-002a0585b0c0"
      },
      "source": [
        "wtype.dtype"
      ],
      "execution_count": null,
      "outputs": [
        {
          "output_type": "execute_result",
          "data": {
            "text/plain": [
              "dtype('float64')"
            ]
          },
          "metadata": {
            "tags": []
          },
          "execution_count": 294
        }
      ]
    },
    {
      "cell_type": "markdown",
      "metadata": {
        "id": "QIcGKjYJ6_Hi"
      },
      "source": [
        "#Astype"
      ]
    },
    {
      "cell_type": "code",
      "metadata": {
        "id": "m8DO_bfE7C9_",
        "colab": {
          "base_uri": "https://localhost:8080/"
        },
        "outputId": "0ab3f7ca-8608-4959-b834-f80ed93364d3"
      },
      "source": [
        "wtype.astype('int')"
      ],
      "execution_count": null,
      "outputs": [
        {
          "output_type": "execute_result",
          "data": {
            "text/plain": [
              "array([-1,  0,  1,  2])"
            ]
          },
          "metadata": {
            "tags": []
          },
          "execution_count": 295
        }
      ]
    },
    {
      "cell_type": "markdown",
      "metadata": {
        "id": "PyRSGFSXpqpW"
      },
      "source": [
        "#Slicing"
      ]
    },
    {
      "cell_type": "code",
      "metadata": {
        "id": "vHNF3lQEiOdb",
        "colab": {
          "base_uri": "https://localhost:8080/"
        },
        "outputId": "29aaf7bb-68e4-4fe5-ce58-f81fb9b2543e"
      },
      "source": [
        "#slicing\n",
        "forslice = np.mgrid[0:4,0:4][0]\n",
        "print(forslice)"
      ],
      "execution_count": null,
      "outputs": [
        {
          "output_type": "stream",
          "text": [
            "[[0 0 0 0]\n",
            " [1 1 1 1]\n",
            " [2 2 2 2]\n",
            " [3 3 3 3]]\n"
          ],
          "name": "stdout"
        }
      ]
    },
    {
      "cell_type": "code",
      "metadata": {
        "id": "IppfzO3n9b_k",
        "colab": {
          "base_uri": "https://localhost:8080/"
        },
        "outputId": "85abb291-f836-44a4-ad6b-6bf50b0cdc00"
      },
      "source": [
        "print(forslice[1][1])"
      ],
      "execution_count": null,
      "outputs": [
        {
          "output_type": "stream",
          "text": [
            "1\n"
          ],
          "name": "stdout"
        }
      ]
    },
    {
      "cell_type": "code",
      "metadata": {
        "id": "59H8HOcIFBp1",
        "colab": {
          "base_uri": "https://localhost:8080/"
        },
        "outputId": "969f3b57-86c4-447e-badd-c259afc35ce7"
      },
      "source": [
        "forslice[1]"
      ],
      "execution_count": null,
      "outputs": [
        {
          "output_type": "execute_result",
          "data": {
            "text/plain": [
              "array([1, 1, 1, 1])"
            ]
          },
          "metadata": {
            "tags": []
          },
          "execution_count": 298
        }
      ]
    },
    {
      "cell_type": "code",
      "metadata": {
        "id": "AjUTcF3pFE1Q",
        "colab": {
          "base_uri": "https://localhost:8080/"
        },
        "outputId": "5f1c7743-9095-4df3-e54d-2fdf1a6b3953"
      },
      "source": [
        "forslice[2,2]"
      ],
      "execution_count": null,
      "outputs": [
        {
          "output_type": "execute_result",
          "data": {
            "text/plain": [
              "2"
            ]
          },
          "metadata": {
            "tags": []
          },
          "execution_count": 299
        }
      ]
    },
    {
      "cell_type": "code",
      "metadata": {
        "id": "0XSPv9rA9jHv",
        "colab": {
          "base_uri": "https://localhost:8080/"
        },
        "outputId": "5ede1cbe-c9dd-4850-a7c3-0f5a20f85932"
      },
      "source": [
        "print(forslice[:,-1])"
      ],
      "execution_count": null,
      "outputs": [
        {
          "output_type": "stream",
          "text": [
            "[0 1 2 3]\n"
          ],
          "name": "stdout"
        }
      ]
    },
    {
      "cell_type": "code",
      "metadata": {
        "id": "a0VwROqo9pnM",
        "colab": {
          "base_uri": "https://localhost:8080/"
        },
        "outputId": "8577ff6c-e852-42ee-bf1b-1c07ac5e37cd"
      },
      "source": [
        "forslice[1][1] = 99\n",
        "print(forslice)"
      ],
      "execution_count": null,
      "outputs": [
        {
          "output_type": "stream",
          "text": [
            "[[ 0  0  0  0]\n",
            " [ 1 99  1  1]\n",
            " [ 2  2  2  2]\n",
            " [ 3  3  3  3]]\n"
          ],
          "name": "stdout"
        }
      ]
    },
    {
      "cell_type": "code",
      "metadata": {
        "id": "z8UOGLylAh_L",
        "colab": {
          "base_uri": "https://localhost:8080/"
        },
        "outputId": "f819352d-f42b-4118-ad1a-43c3d5f83d00"
      },
      "source": [
        "forslice[::-1]"
      ],
      "execution_count": null,
      "outputs": [
        {
          "output_type": "execute_result",
          "data": {
            "text/plain": [
              "array([[ 3,  3,  3,  3],\n",
              "       [ 2,  2,  2,  2],\n",
              "       [ 1, 99,  1,  1],\n",
              "       [ 0,  0,  0,  0]])"
            ]
          },
          "metadata": {
            "tags": []
          },
          "execution_count": 302
        }
      ]
    },
    {
      "cell_type": "code",
      "metadata": {
        "id": "p12e4KBOF09s",
        "colab": {
          "base_uri": "https://localhost:8080/"
        },
        "outputId": "c7c1059d-7c76-438d-b422-8098c46ac483"
      },
      "source": [
        "forslice[1:4:2] #return row 1 and 3"
      ],
      "execution_count": null,
      "outputs": [
        {
          "output_type": "execute_result",
          "data": {
            "text/plain": [
              "array([[ 1, 99,  1,  1],\n",
              "       [ 3,  3,  3,  3]])"
            ]
          },
          "metadata": {
            "tags": []
          },
          "execution_count": 303
        }
      ]
    },
    {
      "cell_type": "code",
      "metadata": {
        "id": "PhmxSgRl9tQ4",
        "colab": {
          "base_uri": "https://localhost:8080/"
        },
        "outputId": "92a51788-c9ae-48e3-b112-03b407eea62c"
      },
      "source": [
        "forslice[:,:-1] = 0\n",
        "print(forslice)"
      ],
      "execution_count": null,
      "outputs": [
        {
          "output_type": "stream",
          "text": [
            "[[0 0 0 0]\n",
            " [0 0 0 1]\n",
            " [0 0 0 2]\n",
            " [0 0 0 3]]\n"
          ],
          "name": "stdout"
        }
      ]
    },
    {
      "cell_type": "markdown",
      "metadata": {
        "id": "vxwP3kcgpxED"
      },
      "source": [
        "# Copy Slicing"
      ]
    },
    {
      "cell_type": "code",
      "metadata": {
        "id": "Ap1JcyW7kGgN",
        "colab": {
          "base_uri": "https://localhost:8080/"
        },
        "outputId": "f88e296c-f85d-4161-b289-8904d1d9d76e"
      },
      "source": [
        "#copy slicing to avoid memory share\n",
        "e = a[:,:].copy()\n",
        "e[0][0] = 99\n",
        "print(a)\n",
        "print(e)"
      ],
      "execution_count": null,
      "outputs": [
        {
          "output_type": "stream",
          "text": [
            "[[1 2 3]\n",
            " [2 3 4]\n",
            " [3 4 5]]\n",
            "[[99  2  3]\n",
            " [ 2  3  4]\n",
            " [ 3  4  5]]\n"
          ],
          "name": "stdout"
        }
      ]
    },
    {
      "cell_type": "markdown",
      "metadata": {
        "id": "G5qA0RmEp48x"
      },
      "source": [
        "# Operation element by element"
      ]
    },
    {
      "cell_type": "code",
      "metadata": {
        "id": "ShYOFdLTlrzf",
        "colab": {
          "base_uri": "https://localhost:8080/"
        },
        "outputId": "00ff1843-dbc6-47fb-e394-a417aab1a7c2"
      },
      "source": [
        "#math\n",
        "print(b,'\\n')\n",
        "\n",
        "print(b+b,'\\n')\n",
        "\n",
        "print(b*b)\n",
        "\n",
        "try:\n",
        "  print(b-d)\n",
        "except Exception as error:\n",
        "  print(error,'\\n')"
      ],
      "execution_count": null,
      "outputs": [
        {
          "output_type": "stream",
          "text": [
            "[1 2 3 4] \n",
            "\n",
            "[2 4 6 8] \n",
            "\n",
            "[ 1  4  9 16]\n",
            "operands could not be broadcast together with shapes (4,) (4,3,2)  \n",
            "\n"
          ],
          "name": "stdout"
        }
      ]
    },
    {
      "cell_type": "code",
      "metadata": {
        "id": "GUJ6YzzHqvpC",
        "colab": {
          "base_uri": "https://localhost:8080/"
        },
        "outputId": "c91184c2-3581-4c2f-89eb-f008d550325b"
      },
      "source": [
        "print(b,'\\n')\n",
        "print(b+10,'\\n')\n",
        "print(b-5,'\\n')\n",
        "print(b*5,'\\n')"
      ],
      "execution_count": null,
      "outputs": [
        {
          "output_type": "stream",
          "text": [
            "[1 2 3 4] \n",
            "\n",
            "[11 12 13 14] \n",
            "\n",
            "[-4 -3 -2 -1] \n",
            "\n",
            "[ 5 10 15 20] \n",
            "\n"
          ],
          "name": "stdout"
        }
      ]
    },
    {
      "cell_type": "markdown",
      "metadata": {
        "id": "pD251vKyrcnq"
      },
      "source": [
        "#Multiply matrix"
      ]
    },
    {
      "cell_type": "code",
      "metadata": {
        "id": "G-tXqyVKaf6G",
        "colab": {
          "base_uri": "https://localhost:8080/"
        },
        "outputId": "0d347740-dbef-4d8c-f136-cca18547ca29"
      },
      "source": [
        "\n",
        "x = np.array([[1,2],[3,4]])\n",
        "y = np.array([[5,6],[7,8]])\n",
        "print(x.dot(y),'\\n')\n",
        "\n",
        "v = np.array([5,5])\n",
        "w = np.array([2,3])\n",
        "print(np.dot(v,w),'\\n')\n",
        "\n",
        "print(x @ v)"
      ],
      "execution_count": null,
      "outputs": [
        {
          "output_type": "stream",
          "text": [
            "[[19 22]\n",
            " [43 50]] \n",
            "\n",
            "25 \n",
            "\n",
            "[15 35]\n"
          ],
          "name": "stdout"
        }
      ]
    },
    {
      "cell_type": "markdown",
      "metadata": {
        "id": "JFaAGg4gpt5V"
      },
      "source": [
        "#Compare"
      ]
    },
    {
      "cell_type": "code",
      "metadata": {
        "id": "7LMbKGK6hKzI",
        "colab": {
          "base_uri": "https://localhost:8080/"
        },
        "outputId": "7507bc74-505a-4b66-d27e-854627efa989"
      },
      "source": [
        "#Bool\n",
        "x = np.array([[1,2],[3,4]])\n",
        "y = np.array([1.5,3.5])\n",
        "print(x >= y,'\\n')"
      ],
      "execution_count": null,
      "outputs": [
        {
          "output_type": "stream",
          "text": [
            "[[False False]\n",
            " [ True  True]] \n",
            "\n"
          ],
          "name": "stdout"
        }
      ]
    },
    {
      "cell_type": "code",
      "metadata": {
        "id": "8OIgV__B8Jg7",
        "colab": {
          "base_uri": "https://localhost:8080/"
        },
        "outputId": "f399d8ce-0866-4a22-d899-9db904eb6d69"
      },
      "source": [
        "true = np.array([True])\n",
        "false = np.array([[False],[False]])\n",
        "np.logical_and(true,false)"
      ],
      "execution_count": null,
      "outputs": [
        {
          "output_type": "execute_result",
          "data": {
            "text/plain": [
              "array([[False],\n",
              "       [False]])"
            ]
          },
          "metadata": {
            "tags": []
          },
          "execution_count": 310
        }
      ]
    },
    {
      "cell_type": "code",
      "metadata": {
        "id": "kEGiEZgJ8FSr",
        "colab": {
          "base_uri": "https://localhost:8080/"
        },
        "outputId": "a2a1156e-4af4-48af-e5ef-f66e3ef845f3"
      },
      "source": [
        "#Return a subarray which satisfies the given conditions\n",
        "print(x,'\\n')\n",
        "print(x[x % 2 ==0],'\\n')"
      ],
      "execution_count": null,
      "outputs": [
        {
          "output_type": "stream",
          "text": [
            "[[1 2]\n",
            " [3 4]] \n",
            "\n",
            "[2 4] \n",
            "\n"
          ],
          "name": "stdout"
        }
      ]
    },
    {
      "cell_type": "markdown",
      "metadata": {
        "id": "tsLnzad3DBAE"
      },
      "source": [
        "# Reshape\n",
        "Transform a matrix in vector"
      ]
    },
    {
      "cell_type": "code",
      "metadata": {
        "id": "RTv-7qgFDKZN",
        "colab": {
          "base_uri": "https://localhost:8080/"
        },
        "outputId": "951f6dad-ead3-4ed0-e029-478ccc401f06"
      },
      "source": [
        "x = np.array([[1,3,7],[4,11,21],[42,8,9]])\n",
        "\n",
        "print(x.reshape(9,1),'\\n')"
      ],
      "execution_count": null,
      "outputs": [
        {
          "output_type": "stream",
          "text": [
            "[[ 1]\n",
            " [ 3]\n",
            " [ 7]\n",
            " [ 4]\n",
            " [11]\n",
            " [21]\n",
            " [42]\n",
            " [ 8]\n",
            " [ 9]] \n",
            "\n"
          ],
          "name": "stdout"
        }
      ]
    },
    {
      "cell_type": "markdown",
      "metadata": {
        "id": "KqGpdvwpDhH3"
      },
      "source": [
        "# Matriz em Vetor"
      ]
    },
    {
      "cell_type": "code",
      "metadata": {
        "id": "YCNPiFE0Dhdx",
        "colab": {
          "base_uri": "https://localhost:8080/"
        },
        "outputId": "b6e02c84-8034-4e8a-9280-58af71a5920b"
      },
      "source": [
        "matrix = np.mgrid[0:10,0:1];matrix"
      ],
      "execution_count": null,
      "outputs": [
        {
          "output_type": "execute_result",
          "data": {
            "text/plain": [
              "array([[[0],\n",
              "        [1],\n",
              "        [2],\n",
              "        [3],\n",
              "        [4],\n",
              "        [5],\n",
              "        [6],\n",
              "        [7],\n",
              "        [8],\n",
              "        [9]],\n",
              "\n",
              "       [[0],\n",
              "        [0],\n",
              "        [0],\n",
              "        [0],\n",
              "        [0],\n",
              "        [0],\n",
              "        [0],\n",
              "        [0],\n",
              "        [0],\n",
              "        [0]]])"
            ]
          },
          "metadata": {
            "tags": []
          },
          "execution_count": 3
        }
      ]
    },
    {
      "cell_type": "code",
      "metadata": {
        "id": "l7a4cqofD4f5",
        "colab": {
          "base_uri": "https://localhost:8080/"
        },
        "outputId": "47a9f9c5-9c48-45e6-c874-3910f40ea1c1"
      },
      "source": [
        "matrix.ravel()"
      ],
      "execution_count": null,
      "outputs": [
        {
          "output_type": "execute_result",
          "data": {
            "text/plain": [
              "array([0, 1, 2, 3, 4, 5, 6, 7, 8, 9, 0, 0, 0, 0, 0, 0, 0, 0, 0, 0])"
            ]
          },
          "metadata": {
            "tags": []
          },
          "execution_count": 4
        }
      ]
    },
    {
      "cell_type": "markdown",
      "metadata": {
        "id": "UdxYoS4CqEcz"
      },
      "source": [
        "\n",
        "# Pivot"
      ]
    },
    {
      "cell_type": "code",
      "metadata": {
        "id": "UT_p1qZ3moOH",
        "colab": {
          "base_uri": "https://localhost:8080/"
        },
        "outputId": "a49ff67a-2443-409c-87c4-b01f5ab9feac"
      },
      "source": [
        "pivot = np.array([[1,2],[3,4],[5,6]])\n",
        "print(pivot,'\\n')\n",
        "pivot = pivot.reshape(2,3)#Pivot From 3 rows and 2 columns to 2 rows and 3 columns\n",
        "print(pivot)"
      ],
      "execution_count": null,
      "outputs": [
        {
          "output_type": "stream",
          "text": [
            "[[1 2]\n",
            " [3 4]\n",
            " [5 6]] \n",
            "\n",
            "[[1 2 3]\n",
            " [4 5 6]]\n"
          ],
          "name": "stdout"
        }
      ]
    },
    {
      "cell_type": "markdown",
      "metadata": {
        "id": "3MwJdoNMpn0M"
      },
      "source": [
        "# Transpose matrix"
      ]
    },
    {
      "cell_type": "code",
      "metadata": {
        "id": "QML3eb2wDwko",
        "colab": {
          "base_uri": "https://localhost:8080/"
        },
        "outputId": "96aeea55-4715-4c28-b459-91a88be4a330"
      },
      "source": [
        "x = np.mgrid[33:55,0:2][0]\n",
        "print(x.T,'\\n')"
      ],
      "execution_count": null,
      "outputs": [
        {
          "output_type": "stream",
          "text": [
            "[[33 34 35 36 37 38 39 40 41 42 43 44 45 46 47 48 49 50 51 52 53 54]\n",
            " [33 34 35 36 37 38 39 40 41 42 43 44 45 46 47 48 49 50 51 52 53 54]] \n",
            "\n"
          ],
          "name": "stdout"
        }
      ]
    },
    {
      "cell_type": "code",
      "metadata": {
        "id": "59eH7HDAItcm",
        "colab": {
          "base_uri": "https://localhost:8080/"
        },
        "outputId": "6ce94146-b376-4be4-d33b-4add920efd20"
      },
      "source": [
        "np.transpose(x)"
      ],
      "execution_count": null,
      "outputs": [
        {
          "output_type": "execute_result",
          "data": {
            "text/plain": [
              "array([[33, 34, 35, 36, 37, 38, 39, 40, 41, 42, 43, 44, 45, 46, 47, 48,\n",
              "        49, 50, 51, 52, 53, 54],\n",
              "       [33, 34, 35, 36, 37, 38, 39, 40, 41, 42, 43, 44, 45, 46, 47, 48,\n",
              "        49, 50, 51, 52, 53, 54]])"
            ]
          },
          "metadata": {
            "tags": []
          },
          "execution_count": 315
        }
      ]
    },
    {
      "cell_type": "markdown",
      "metadata": {
        "id": "u7Q9KCZIK2Bw"
      },
      "source": [
        "# Broadcasting"
      ]
    },
    {
      "cell_type": "code",
      "metadata": {
        "id": "VYmSfjJZK6h1",
        "colab": {
          "base_uri": "https://localhost:8080/"
        },
        "outputId": "c2b01333-8eb5-44e9-a94b-1f3e266a97bb"
      },
      "source": [
        "broad = np.mgrid[0:10,0:1][0]\n",
        "broad.T + broad"
      ],
      "execution_count": null,
      "outputs": [
        {
          "output_type": "execute_result",
          "data": {
            "text/plain": [
              "array([[ 0,  1,  2,  3,  4,  5,  6,  7,  8,  9],\n",
              "       [ 1,  2,  3,  4,  5,  6,  7,  8,  9, 10],\n",
              "       [ 2,  3,  4,  5,  6,  7,  8,  9, 10, 11],\n",
              "       [ 3,  4,  5,  6,  7,  8,  9, 10, 11, 12],\n",
              "       [ 4,  5,  6,  7,  8,  9, 10, 11, 12, 13],\n",
              "       [ 5,  6,  7,  8,  9, 10, 11, 12, 13, 14],\n",
              "       [ 6,  7,  8,  9, 10, 11, 12, 13, 14, 15],\n",
              "       [ 7,  8,  9, 10, 11, 12, 13, 14, 15, 16],\n",
              "       [ 8,  9, 10, 11, 12, 13, 14, 15, 16, 17],\n",
              "       [ 9, 10, 11, 12, 13, 14, 15, 16, 17, 18]])"
            ]
          },
          "metadata": {
            "tags": []
          },
          "execution_count": 316
        }
      ]
    },
    {
      "cell_type": "markdown",
      "metadata": {
        "id": "s3hg80puD8B4"
      },
      "source": [
        "# Sum axis\n",
        "0 = row\n",
        "1= column"
      ]
    },
    {
      "cell_type": "code",
      "metadata": {
        "id": "_cK-eFiSGJjp",
        "colab": {
          "base_uri": "https://localhost:8080/"
        },
        "outputId": "3b2d1c4e-00f7-47a5-91cb-c3c8f8f9d325"
      },
      "source": [
        "print(x)"
      ],
      "execution_count": null,
      "outputs": [
        {
          "output_type": "stream",
          "text": [
            "[[33 33]\n",
            " [34 34]\n",
            " [35 35]\n",
            " [36 36]\n",
            " [37 37]\n",
            " [38 38]\n",
            " [39 39]\n",
            " [40 40]\n",
            " [41 41]\n",
            " [42 42]\n",
            " [43 43]\n",
            " [44 44]\n",
            " [45 45]\n",
            " [46 46]\n",
            " [47 47]\n",
            " [48 48]\n",
            " [49 49]\n",
            " [50 50]\n",
            " [51 51]\n",
            " [52 52]\n",
            " [53 53]\n",
            " [54 54]]\n"
          ],
          "name": "stdout"
        }
      ]
    },
    {
      "cell_type": "code",
      "metadata": {
        "id": "_DIP5BaBD7Jq",
        "colab": {
          "base_uri": "https://localhost:8080/"
        },
        "outputId": "ab13e8eb-7c19-43f4-e2f1-706375b529c5"
      },
      "source": [
        "print(np.sum(x))"
      ],
      "execution_count": null,
      "outputs": [
        {
          "output_type": "stream",
          "text": [
            "1914\n"
          ],
          "name": "stdout"
        }
      ]
    },
    {
      "cell_type": "code",
      "metadata": {
        "id": "qcq1kbJMFzxx",
        "colab": {
          "base_uri": "https://localhost:8080/"
        },
        "outputId": "40021c43-5cd0-4045-8ef3-a51459d1eb7e"
      },
      "source": [
        "print(np.sum(x,axis=0))"
      ],
      "execution_count": null,
      "outputs": [
        {
          "output_type": "stream",
          "text": [
            "[957 957]\n"
          ],
          "name": "stdout"
        }
      ]
    },
    {
      "cell_type": "code",
      "metadata": {
        "id": "q3gplRrPFu3r",
        "colab": {
          "base_uri": "https://localhost:8080/"
        },
        "outputId": "47fe2ef2-d7c6-4f72-bd02-ef62c8e0af05"
      },
      "source": [
        "print(np.sum(x,axis=1))"
      ],
      "execution_count": null,
      "outputs": [
        {
          "output_type": "stream",
          "text": [
            "[ 66  68  70  72  74  76  78  80  82  84  86  88  90  92  94  96  98 100\n",
            " 102 104 106 108]\n"
          ],
          "name": "stdout"
        }
      ]
    },
    {
      "cell_type": "markdown",
      "metadata": {
        "id": "r_pbrjue1pia"
      },
      "source": [
        "# Max axis"
      ]
    },
    {
      "cell_type": "code",
      "metadata": {
        "id": "Irwz0FiL1naB",
        "colab": {
          "base_uri": "https://localhost:8080/"
        },
        "outputId": "d869fedd-a2f1-4c37-aa12-52a524ac7ab9"
      },
      "source": [
        "x = np.array([[1,2],[3,4]])\n",
        "print(x)"
      ],
      "execution_count": null,
      "outputs": [
        {
          "output_type": "stream",
          "text": [
            "[[1 2]\n",
            " [3 4]]\n"
          ],
          "name": "stdout"
        }
      ]
    },
    {
      "cell_type": "code",
      "metadata": {
        "id": "7l_M_eje27OP",
        "colab": {
          "base_uri": "https://localhost:8080/"
        },
        "outputId": "e6e5f0d6-e76a-4a84-b755-a0bfa50fb37c"
      },
      "source": [
        "print(x.max())\n",
        "print(np.max(x))"
      ],
      "execution_count": null,
      "outputs": [
        {
          "output_type": "stream",
          "text": [
            "4\n",
            "4\n"
          ],
          "name": "stdout"
        }
      ]
    },
    {
      "cell_type": "code",
      "metadata": {
        "id": "V-lDXzQZ294R",
        "colab": {
          "base_uri": "https://localhost:8080/"
        },
        "outputId": "cff8d0a2-7538-4bfa-ac6b-75d9d849c8be"
      },
      "source": [
        "print(np.max(x,axis=0))\n",
        "print(np.max(x,axis=1))"
      ],
      "execution_count": null,
      "outputs": [
        {
          "output_type": "stream",
          "text": [
            "[3 4]\n",
            "[2 4]\n"
          ],
          "name": "stdout"
        }
      ]
    },
    {
      "cell_type": "markdown",
      "metadata": {
        "id": "dPdRFHxJHS7-"
      },
      "source": [
        "# Mean axis"
      ]
    },
    {
      "cell_type": "code",
      "metadata": {
        "id": "YXtFFl8_HOJ-",
        "colab": {
          "base_uri": "https://localhost:8080/"
        },
        "outputId": "c5ba2fa9-b2ce-407b-fb30-3735b5026935"
      },
      "source": [
        "print(np.mean(x))"
      ],
      "execution_count": null,
      "outputs": [
        {
          "output_type": "stream",
          "text": [
            "2.5\n"
          ],
          "name": "stdout"
        }
      ]
    },
    {
      "cell_type": "code",
      "metadata": {
        "id": "VCGUv20_HY_s",
        "colab": {
          "base_uri": "https://localhost:8080/"
        },
        "outputId": "f10062c5-3121-4f3f-93c7-96622f9d9ffe"
      },
      "source": [
        "print(np.mean(x,axis=0))"
      ],
      "execution_count": null,
      "outputs": [
        {
          "output_type": "stream",
          "text": [
            "[2. 3.]\n"
          ],
          "name": "stdout"
        }
      ]
    },
    {
      "cell_type": "code",
      "metadata": {
        "id": "4WcbaYOEHaoF",
        "colab": {
          "base_uri": "https://localhost:8080/"
        },
        "outputId": "e2267cad-7723-4e22-e782-b656b45fefab"
      },
      "source": [
        "print(np.mean(x,axis=1))"
      ],
      "execution_count": null,
      "outputs": [
        {
          "output_type": "stream",
          "text": [
            "[1.5 3.5]\n"
          ],
          "name": "stdout"
        }
      ]
    },
    {
      "cell_type": "markdown",
      "metadata": {
        "id": "V9FjFEhcIkz3"
      },
      "source": [
        "# Where"
      ]
    },
    {
      "cell_type": "code",
      "metadata": {
        "id": "uJZPaNqTIkDV",
        "colab": {
          "base_uri": "https://localhost:8080/"
        },
        "outputId": "38f22b23-347f-4c37-b5ef-cb4240a2e2b1"
      },
      "source": [
        "print(np.where(x%2==1))\n",
        "print(np.sum(x[np.where(x%2==1)],axis=0))"
      ],
      "execution_count": null,
      "outputs": [
        {
          "output_type": "stream",
          "text": [
            "(array([0, 1]), array([0, 0]))\n",
            "4\n"
          ],
          "name": "stdout"
        }
      ]
    },
    {
      "cell_type": "code",
      "metadata": {
        "id": "kgSlKHIAEzOi"
      },
      "source": [
        "towhere = np.random.randint(1,10,size=(4,4))"
      ],
      "execution_count": null,
      "outputs": []
    },
    {
      "cell_type": "code",
      "metadata": {
        "id": "KrNCTK6uE-m0",
        "colab": {
          "base_uri": "https://localhost:8080/"
        },
        "outputId": "ebe243b5-43e0-4009-fd9f-ba4a8f1402f9"
      },
      "source": [
        "np.any((towhere %7)==0)"
      ],
      "execution_count": null,
      "outputs": [
        {
          "output_type": "execute_result",
          "data": {
            "text/plain": [
              "True"
            ]
          },
          "metadata": {
            "tags": []
          },
          "execution_count": 7
        }
      ]
    },
    {
      "cell_type": "code",
      "metadata": {
        "id": "TVwhY33LFfHl",
        "colab": {
          "base_uri": "https://localhost:8080/"
        },
        "outputId": "5bddf77a-cf1e-430e-fb05-9642f129ea50"
      },
      "source": [
        "np.all(towhere< 11)"
      ],
      "execution_count": null,
      "outputs": [
        {
          "output_type": "execute_result",
          "data": {
            "text/plain": [
              "True"
            ]
          },
          "metadata": {
            "tags": []
          },
          "execution_count": 8
        }
      ]
    },
    {
      "cell_type": "markdown",
      "metadata": {
        "id": "KnTIN3GdFv5g"
      },
      "source": [
        "# Order by"
      ]
    },
    {
      "cell_type": "code",
      "metadata": {
        "id": "7e2GRnXuFwMC",
        "colab": {
          "base_uri": "https://localhost:8080/"
        },
        "outputId": "c57c002c-4ee8-4ff7-9cb5-a22fdce96de3"
      },
      "source": [
        "toorder = np.random.randint(1,10,size=(4,4));toorder"
      ],
      "execution_count": null,
      "outputs": [
        {
          "output_type": "execute_result",
          "data": {
            "text/plain": [
              "array([[4, 5, 5, 3],\n",
              "       [8, 4, 7, 4],\n",
              "       [3, 2, 9, 3],\n",
              "       [5, 8, 2, 7]])"
            ]
          },
          "metadata": {
            "tags": []
          },
          "execution_count": 12
        }
      ]
    },
    {
      "cell_type": "code",
      "metadata": {
        "id": "zd9L5c2wF4UY",
        "colab": {
          "base_uri": "https://localhost:8080/"
        },
        "outputId": "e6fdb09b-e4e7-4e73-9f1c-62aafabb4481"
      },
      "source": [
        "toorder.sort();toorder"
      ],
      "execution_count": null,
      "outputs": [
        {
          "output_type": "execute_result",
          "data": {
            "text/plain": [
              "array([[3, 4, 5, 5],\n",
              "       [4, 4, 7, 8],\n",
              "       [2, 3, 3, 9],\n",
              "       [2, 5, 7, 8]])"
            ]
          },
          "metadata": {
            "tags": []
          },
          "execution_count": 13
        }
      ]
    },
    {
      "cell_type": "code",
      "metadata": {
        "id": "AtY_chGxGFps",
        "colab": {
          "base_uri": "https://localhost:8080/"
        },
        "outputId": "478c0e7d-94ff-48e3-b182-e4239ffcc6be"
      },
      "source": [
        "toorder.sort(axis=0);toorder"
      ],
      "execution_count": null,
      "outputs": [
        {
          "output_type": "execute_result",
          "data": {
            "text/plain": [
              "array([[2, 3, 3, 5],\n",
              "       [2, 4, 5, 8],\n",
              "       [3, 4, 7, 8],\n",
              "       [4, 5, 7, 9]])"
            ]
          },
          "metadata": {
            "tags": []
          },
          "execution_count": 15
        }
      ]
    },
    {
      "cell_type": "markdown",
      "metadata": {
        "id": "aMmEGMJK-sD6"
      },
      "source": [
        "#Linear Regression"
      ]
    },
    {
      "cell_type": "code",
      "metadata": {
        "id": "6ja45ohd-w2a"
      },
      "source": [
        "import matplotlib.pyplot as plt\n",
        "import numpy as np"
      ],
      "execution_count": null,
      "outputs": []
    },
    {
      "cell_type": "code",
      "metadata": {
        "id": "QgYJfukDCAGs"
      },
      "source": [
        "x = [-1.,-0.7,-0.5,-0.3,-0.1,0.1,0.3,0.5,0.7,1]\n",
        "y = [-1.14,-0.57,-0.22,0.54,0.49,1.15,1.64,2.17,2.65,2.95]"
      ],
      "execution_count": null,
      "outputs": []
    },
    {
      "cell_type": "code",
      "metadata": {
        "id": "nG3CVfu0Egb4",
        "colab": {
          "base_uri": "https://localhost:8080/"
        },
        "outputId": "a9357e04-0bbe-4230-bd94-88c32f97770d"
      },
      "source": [
        "plt.figure(figsize=(10,5))\n",
        "plt.plot(x,y,'o',label='dados originais')# 'o' scatterplot\n",
        "plt.legend()\n",
        "plt.xlabel('x')\n",
        "plt.ylabel('y')\n",
        "plt.grid()\n",
        "plt.show()"
      ],
      "execution_count": null,
      "outputs": [
        {
          "output_type": "display_data",
          "data": {
            "image/png": "[encoded data removed]",
            "text/plain": [
              "<Figure size 720x360 with 1 Axes>"
            ]
          },
          "metadata": {
            "tags": [],
            "needs_background": "light"
          }
        }
      ]
    },
    {
      "cell_type": "code",
      "metadata": {
        "id": "qiJu2Md5FjJV",
        "colab": {
          "base_uri": "https://localhost:8080/"
        },
        "outputId": "1ac810bb-1ad7-490d-bd72-f5bf78f06df4"
      },
      "source": [
        "#y = a*x + b\n",
        "\n",
        "# to numpy array\n",
        "x= np.array(x).reshape(-1,1) # -1 force to 1 column\n",
        "y=np.array(y).reshape(-1,1)\n",
        "\n",
        "#matriz x and column of 1 for estimate b\n",
        "X = np.hstack((x,np.ones(x.shape)))\n",
        "\n",
        "beta = np.linalg.pinv(X).dot(y)\n",
        "print('a:',beta[0][0], 'b:',beta[1][0])"
      ],
      "execution_count": null,
      "outputs": [
        {
          "output_type": "stream",
          "text": [
            "a: 2.15625 b: 0.966\n"
          ],
          "name": "stdout"
        }
      ]
    },
    {
      "cell_type": "code",
      "metadata": {
        "id": "kDd8LigYaTtC",
        "colab": {
          "base_uri": "https://localhost:8080/"
        },
        "outputId": "c394a231-c6e2-4788-de82-37d1063f6bfc"
      },
      "source": [
        "plt.figure(figsize=(10,5))\n",
        "plt.plot(x,y,'o',label='dados originais')#original\n",
        "plt.plot(x,X.dot(beta),label='regressão linear')\n",
        "plt.legend()\n",
        "plt.xlabel('x')\n",
        "plt.ylabel('y')\n",
        "plt.grid()\n",
        "plt.show()"
      ],
      "execution_count": null,
      "outputs": [
        {
          "output_type": "display_data",
          "data": {
            "image/png": "[encoded data removed]",
            "text/plain": [
              "<Figure size 720x360 with 1 Axes>"
            ]
          },
          "metadata": {
            "tags": [],
            "needs_background": "light"
          }
        }
      ]
    },
    {
      "cell_type": "markdown",
      "metadata": {
        "id": "U4bQ98imUtV1"
      },
      "source": [
        "# Porformance"
      ]
    },
    {
      "cell_type": "code",
      "metadata": {
        "id": "XgWXn1HrUz9V"
      },
      "source": [
        "nparray = np.arange(15)"
      ],
      "execution_count": null,
      "outputs": []
    },
    {
      "cell_type": "code",
      "metadata": {
        "colab": {
          "base_uri": "https://localhost:8080/"
        },
        "id": "Wp9-If4IVL1i",
        "outputId": "cd13e43e-bc5d-4068-d35f-7e1432cddbf8"
      },
      "source": [
        "nparray"
      ],
      "execution_count": null,
      "outputs": [
        {
          "output_type": "execute_result",
          "data": {
            "text/plain": [
              "array([ 0,  1,  2,  3,  4,  5,  6,  7,  8,  9, 10, 11, 12, 13, 14])"
            ]
          },
          "metadata": {
            "tags": []
          },
          "execution_count": 4
        }
      ]
    },
    {
      "cell_type": "code",
      "metadata": {
        "colab": {
          "base_uri": "https://localhost:8080/"
        },
        "id": "lEbemAejVaVP",
        "outputId": "e72c95d3-787a-41ef-fc2b-414afd4585b7"
      },
      "source": [
        "nparray.mean()"
      ],
      "execution_count": null,
      "outputs": [
        {
          "output_type": "execute_result",
          "data": {
            "text/plain": [
              "7.0"
            ]
          },
          "metadata": {
            "tags": []
          },
          "execution_count": 6
        }
      ]
    },
    {
      "cell_type": "code",
      "metadata": {
        "colab": {
          "base_uri": "https://localhost:8080/"
        },
        "id": "kTmVJxQIVg3w",
        "outputId": "f88f64ad-f7c8-4275-f512-393476c20d68"
      },
      "source": [
        "nparray.sum()"
      ],
      "execution_count": null,
      "outputs": [
        {
          "output_type": "execute_result",
          "data": {
            "text/plain": [
              "105"
            ]
          },
          "metadata": {
            "tags": []
          },
          "execution_count": 7
        }
      ]
    },
    {
      "cell_type": "code",
      "metadata": {
        "colab": {
          "base_uri": "https://localhost:8080/"
        },
        "id": "FijwooWOVjWx",
        "outputId": "cfca6b9b-3b54-40ab-bb15-915c39d3d1b4"
      },
      "source": [
        "nparray.min()"
      ],
      "execution_count": null,
      "outputs": [
        {
          "output_type": "execute_result",
          "data": {
            "text/plain": [
              "0"
            ]
          },
          "metadata": {
            "tags": []
          },
          "execution_count": 8
        }
      ]
    },
    {
      "cell_type": "code",
      "metadata": {
        "colab": {
          "base_uri": "https://localhost:8080/"
        },
        "id": "deagyjy9VlTr",
        "outputId": "778afbf9-3339-44af-9e13-7761d8abf28f"
      },
      "source": [
        "nparray.max()"
      ],
      "execution_count": null,
      "outputs": [
        {
          "output_type": "execute_result",
          "data": {
            "text/plain": [
              "14"
            ]
          },
          "metadata": {
            "tags": []
          },
          "execution_count": 9
        }
      ]
    },
    {
      "cell_type": "code",
      "metadata": {
        "colab": {
          "base_uri": "https://localhost:8080/"
        },
        "id": "zSX7Njr-VnHh",
        "outputId": "c449cc56-e73a-40a3-9119-98cc9207fce1"
      },
      "source": [
        "nparray.std()"
      ],
      "execution_count": null,
      "outputs": [
        {
          "output_type": "execute_result",
          "data": {
            "text/plain": [
              "4.320493798938574"
            ]
          },
          "metadata": {
            "tags": []
          },
          "execution_count": 10
        }
      ]
    },
    {
      "cell_type": "code",
      "metadata": {
        "colab": {
          "base_uri": "https://localhost:8080/"
        },
        "id": "uiYew77zV-xm",
        "outputId": "663dce8f-01e6-45d9-f883-2072f6589492"
      },
      "source": [
        "%timeit [x for x in nparray if x % 2==0]"
      ],
      "execution_count": null,
      "outputs": [
        {
          "output_type": "stream",
          "text": [
            "100000 loops, best of 3: 9.14 µs per loop\n"
          ],
          "name": "stdout"
        }
      ]
    },
    {
      "cell_type": "code",
      "metadata": {
        "colab": {
          "base_uri": "https://localhost:8080/"
        },
        "id": "H3szYGLhWNNR",
        "outputId": "04b2ff62-6ecd-41b7-f5dd-b9014ee7950e"
      },
      "source": [
        "%timeit list(filter(lambda x: x % 2==0,nparray))"
      ],
      "execution_count": null,
      "outputs": [
        {
          "output_type": "stream",
          "text": [
            "100000 loops, best of 3: 10.9 µs per loop\n"
          ],
          "name": "stdout"
        }
      ]
    },
    {
      "cell_type": "code",
      "metadata": {
        "colab": {
          "base_uri": "https://localhost:8080/"
        },
        "id": "ViCpP57kZrBB",
        "outputId": "0280cc02-aafc-47cd-f99a-d6b85dd08412"
      },
      "source": [
        "%timeit nparray[nparray % 2==0]"
      ],
      "execution_count": null,
      "outputs": [
        {
          "output_type": "stream",
          "text": [
            "The slowest run took 20.12 times longer than the fastest. This could mean that an intermediate result is being cached.\n",
            "100000 loops, best of 3: 2.77 µs per loop\n"
          ],
          "name": "stdout"
        }
      ]
    },
    {
      "cell_type": "markdown",
      "metadata": {
        "id": "awHTONSLaoS2"
      },
      "source": [
        "# Logic Operators"
      ]
    },
    {
      "cell_type": "code",
      "metadata": {
        "colab": {
          "base_uri": "https://localhost:8080/"
        },
        "id": "_xm-VqSWarXz",
        "outputId": "221bb0f0-8dd1-42a6-dc83-4f5b7deddaf4"
      },
      "source": [
        "nparray[nparray>8]"
      ],
      "execution_count": null,
      "outputs": [
        {
          "output_type": "execute_result",
          "data": {
            "text/plain": [
              "array([ 9, 10, 11, 12, 13, 14])"
            ]
          },
          "metadata": {
            "tags": []
          },
          "execution_count": 19
        }
      ]
    },
    {
      "cell_type": "code",
      "metadata": {
        "colab": {
          "base_uri": "https://localhost:8080/"
        },
        "id": "HupqpQuvaxHj",
        "outputId": "981dcc28-3131-434a-915e-6e1d0ed7b670"
      },
      "source": [
        "nparray[(nparray>3) & (nparray+2<12)]"
      ],
      "execution_count": null,
      "outputs": [
        {
          "output_type": "execute_result",
          "data": {
            "text/plain": [
              "array([4, 5, 6, 7, 8, 9])"
            ]
          },
          "metadata": {
            "tags": []
          },
          "execution_count": 26
        }
      ]
    },
    {
      "cell_type": "markdown",
      "metadata": {
        "id": "HsMkZNX8khK5"
      },
      "source": [
        "# Concatenate"
      ]
    },
    {
      "cell_type": "code",
      "metadata": {
        "colab": {
          "base_uri": "https://localhost:8080/"
        },
        "id": "tCQIc5NFkgQD",
        "outputId": "51ab68ba-90f6-4229-b84c-27e2ddcab2fe"
      },
      "source": [
        "nprange = np.ones(4)\n",
        "nparray = np.arange(15)\n",
        "npconc = np.concatenate((nprange,nparray))\n",
        "npconc"
      ],
      "execution_count": null,
      "outputs": [
        {
          "output_type": "execute_result",
          "data": {
            "text/plain": [
              "array([ 1.,  1.,  1.,  1.,  0.,  1.,  2.,  3.,  4.,  5.,  6.,  7.,  8.,\n",
              "        9., 10., 11., 12., 13., 14.])"
            ]
          },
          "metadata": {
            "tags": []
          },
          "execution_count": 27
        }
      ]
    },
    {
      "cell_type": "markdown",
      "metadata": {
        "id": "C4gE_sp4klAO"
      },
      "source": [
        "# Join"
      ]
    },
    {
      "cell_type": "code",
      "metadata": {
        "colab": {
          "base_uri": "https://localhost:8080/"
        },
        "id": "o2KAyVFtlig9",
        "outputId": "3fb8f3b0-cc83-4fb6-a8d8-0b458601c3ed"
      },
      "source": [
        "ones = np.ones((3,3))\n",
        "nparray = np.array([[1,2,2],[4,5,6],[7,8,9]])\n",
        "nparray"
      ],
      "execution_count": null,
      "outputs": [
        {
          "output_type": "execute_result",
          "data": {
            "text/plain": [
              "array([[1, 2, 2],\n",
              "       [4, 5, 6],\n",
              "       [7, 8, 9]])"
            ]
          },
          "metadata": {
            "tags": []
          },
          "execution_count": 32
        }
      ]
    },
    {
      "cell_type": "code",
      "metadata": {
        "colab": {
          "base_uri": "https://localhost:8080/"
        },
        "id": "_RKTo_62l17G",
        "outputId": "22aee911-c251-43d2-cf00-f8b7dcc8d8e3"
      },
      "source": [
        "np.vstack((ones,nparray))"
      ],
      "execution_count": null,
      "outputs": [
        {
          "output_type": "execute_result",
          "data": {
            "text/plain": [
              "array([[1., 1., 1.],\n",
              "       [1., 1., 1.],\n",
              "       [1., 1., 1.],\n",
              "       [1., 2., 2.],\n",
              "       [4., 5., 6.],\n",
              "       [7., 8., 9.]])"
            ]
          },
          "metadata": {
            "tags": []
          },
          "execution_count": 33
        }
      ]
    },
    {
      "cell_type": "code",
      "metadata": {
        "colab": {
          "base_uri": "https://localhost:8080/"
        },
        "id": "tvED2XQnmtd8",
        "outputId": "ac7fcaea-f137-426e-c459-1c73ed42a558"
      },
      "source": [
        "np.hstack((ones,nparray))"
      ],
      "execution_count": null,
      "outputs": [
        {
          "output_type": "execute_result",
          "data": {
            "text/plain": [
              "array([[1., 1., 1., 1., 2., 2.],\n",
              "       [1., 1., 1., 4., 5., 6.],\n",
              "       [1., 1., 1., 7., 8., 9.]])"
            ]
          },
          "metadata": {
            "tags": []
          },
          "execution_count": 34
        }
      ]
    },
    {
      "cell_type": "code",
      "metadata": {
        "colab": {
          "base_uri": "https://localhost:8080/"
        },
        "id": "PGQ9X1ErnDCL",
        "outputId": "899fdd12-7c50-4118-c62e-6f56a957394b"
      },
      "source": [
        "np.column_stack((ones,nparray))"
      ],
      "execution_count": null,
      "outputs": [
        {
          "output_type": "execute_result",
          "data": {
            "text/plain": [
              "array([[1., 1., 1., 1., 2., 2.],\n",
              "       [1., 1., 1., 4., 5., 6.],\n",
              "       [1., 1., 1., 7., 8., 9.]])"
            ]
          },
          "metadata": {
            "tags": []
          },
          "execution_count": 35
        }
      ]
    },
    {
      "cell_type": "code",
      "metadata": {
        "colab": {
          "base_uri": "https://localhost:8080/"
        },
        "id": "tTcKt0uFnNRx",
        "outputId": "aa4503b1-1e81-42f1-bae2-2f79b7723083"
      },
      "source": [
        "np.row_stack((ones,nparray))"
      ],
      "execution_count": null,
      "outputs": [
        {
          "output_type": "execute_result",
          "data": {
            "text/plain": [
              "array([[1., 1., 1.],\n",
              "       [1., 1., 1.],\n",
              "       [1., 1., 1.],\n",
              "       [1., 2., 2.],\n",
              "       [4., 5., 6.],\n",
              "       [7., 8., 9.]])"
            ]
          },
          "metadata": {
            "tags": []
          },
          "execution_count": 36
        }
      ]
    },
    {
      "cell_type": "markdown",
      "metadata": {
        "id": "UdIcojHVng8w"
      },
      "source": [
        "# Split"
      ]
    },
    {
      "cell_type": "code",
      "metadata": {
        "colab": {
          "base_uri": "https://localhost:8080/"
        },
        "id": "g_hkxwuqnc_Y",
        "outputId": "61a746c8-e565-4f87-d840-2a807e97adae"
      },
      "source": [
        "array = np.arange(16).reshape((4,4))\n",
        "array"
      ],
      "execution_count": null,
      "outputs": [
        {
          "output_type": "execute_result",
          "data": {
            "text/plain": [
              "array([[ 0,  1,  2,  3],\n",
              "       [ 4,  5,  6,  7],\n",
              "       [ 8,  9, 10, 11],\n",
              "       [12, 13, 14, 15]])"
            ]
          },
          "metadata": {
            "tags": []
          },
          "execution_count": 37
        }
      ]
    },
    {
      "cell_type": "code",
      "metadata": {
        "colab": {
          "base_uri": "https://localhost:8080/"
        },
        "id": "gkZ7JGt_nruq",
        "outputId": "f900d617-4af8-4304-92da-bb06ea8a3637"
      },
      "source": [
        "[arrayh_1,arrayh_2] = np.hsplit(array,2)\n",
        "arrayh_1"
      ],
      "execution_count": null,
      "outputs": [
        {
          "output_type": "execute_result",
          "data": {
            "text/plain": [
              "array([[ 0,  1],\n",
              "       [ 4,  5],\n",
              "       [ 8,  9],\n",
              "       [12, 13]])"
            ]
          },
          "metadata": {
            "tags": []
          },
          "execution_count": 39
        }
      ]
    },
    {
      "cell_type": "code",
      "metadata": {
        "colab": {
          "base_uri": "https://localhost:8080/"
        },
        "id": "u73qlWH1n1_4",
        "outputId": "398534f1-935c-4df9-8d12-d0393aa3154a"
      },
      "source": [
        "[arrayv_1,arrayv_2] = np.vsplit(array,2)\n",
        "arrayv_2"
      ],
      "execution_count": null,
      "outputs": [
        {
          "output_type": "execute_result",
          "data": {
            "text/plain": [
              "array([[ 8,  9, 10, 11],\n",
              "       [12, 13, 14, 15]])"
            ]
          },
          "metadata": {
            "tags": []
          },
          "execution_count": 40
        }
      ]
    },
    {
      "cell_type": "markdown",
      "metadata": {
        "id": "6HFVfTLNoUC8"
      },
      "source": [
        "# Save and Load"
      ]
    },
    {
      "cell_type": "code",
      "metadata": {
        "id": "wKr5jkaAoOpJ"
      },
      "source": [
        "np.save('data',arrayv_2)"
      ],
      "execution_count": null,
      "outputs": []
    },
    {
      "cell_type": "code",
      "metadata": {
        "id": "9Vniwf88obwl"
      },
      "source": [
        "loaded = np.load('data.npy')"
      ],
      "execution_count": null,
      "outputs": []
    },
    {
      "cell_type": "code",
      "metadata": {
        "colab": {
          "base_uri": "https://localhost:8080/"
        },
        "id": "5ETXpngsohB7",
        "outputId": "18213ee0-e41c-4362-970c-b285dd67c969"
      },
      "source": [
        "loaded"
      ],
      "execution_count": null,
      "outputs": [
        {
          "output_type": "execute_result",
          "data": {
            "text/plain": [
              "array([[ 8,  9, 10, 11],\n",
              "       [12, 13, 14, 15]])"
            ]
          },
          "metadata": {
            "tags": []
          },
          "execution_count": 43
        }
      ]
    },
    {
      "cell_type": "markdown",
      "metadata": {
        "id": "3BQAshH5ozQ-"
      },
      "source": [
        "# Matrix"
      ]
    },
    {
      "cell_type": "code",
      "metadata": {
        "colab": {
          "base_uri": "https://localhost:8080/"
        },
        "id": "iEVXTynbo99W",
        "outputId": "35f0a4da-2e71-4576-a174-92e325c022bb"
      },
      "source": [
        "matriz = np.matrix('1,2,3;4,5,6')\n",
        "matriz"
      ],
      "execution_count": null,
      "outputs": [
        {
          "output_type": "execute_result",
          "data": {
            "text/plain": [
              "matrix([[1, 2, 3],\n",
              "        [4, 5, 6]])"
            ]
          },
          "metadata": {
            "tags": []
          },
          "execution_count": 3
        }
      ]
    },
    {
      "cell_type": "code",
      "metadata": {
        "colab": {
          "base_uri": "https://localhost:8080/"
        },
        "id": "mIEl5hAfkNC1",
        "outputId": "08ce0560-ce80-41f8-c900-6c4e54ec2129"
      },
      "source": [
        "listma=np.matrix([[1,2,3],[4,5,6]])\n",
        "listma"
      ],
      "execution_count": null,
      "outputs": [
        {
          "output_type": "execute_result",
          "data": {
            "text/plain": [
              "matrix([[1, 2, 3],\n",
              "        [4, 5, 6]])"
            ]
          },
          "metadata": {
            "tags": []
          },
          "execution_count": 5
        }
      ]
    },
    {
      "cell_type": "code",
      "metadata": {
        "colab": {
          "base_uri": "https://localhost:8080/"
        },
        "id": "mX0drma4kqr2",
        "outputId": "dce1d48c-d555-443e-8e3f-13f23784f7ca"
      },
      "source": [
        "listma[1,2]"
      ],
      "execution_count": null,
      "outputs": [
        {
          "output_type": "execute_result",
          "data": {
            "text/plain": [
              "6"
            ]
          },
          "metadata": {
            "tags": []
          },
          "execution_count": 7
        }
      ]
    },
    {
      "cell_type": "code",
      "metadata": {
        "colab": {
          "base_uri": "https://localhost:8080/"
        },
        "id": "3j-TCUfVlLyq",
        "outputId": "4a500046-5cd5-429c-900d-3d58984b37cf"
      },
      "source": [
        "array = np.array([[1,2],[3,4]])\n",
        "array"
      ],
      "execution_count": null,
      "outputs": [
        {
          "output_type": "execute_result",
          "data": {
            "text/plain": [
              "array([[1, 2],\n",
              "       [3, 4]])"
            ]
          },
          "metadata": {
            "tags": []
          },
          "execution_count": 11
        }
      ]
    },
    {
      "cell_type": "code",
      "metadata": {
        "colab": {
          "base_uri": "https://localhost:8080/"
        },
        "id": "pBv7sUR1lAVn",
        "outputId": "5df3e74a-77c2-4051-906d-85b35fc0eeb9"
      },
      "source": [
        "matar = np.mat(array)\n",
        "matar"
      ],
      "execution_count": null,
      "outputs": [
        {
          "output_type": "execute_result",
          "data": {
            "text/plain": [
              "matrix([[1, 2],\n",
              "        [3, 4]])"
            ]
          },
          "metadata": {
            "tags": []
          },
          "execution_count": 10
        }
      ]
    },
    {
      "cell_type": "code",
      "metadata": {
        "colab": {
          "base_uri": "https://localhost:8080/"
        },
        "id": "zdEgtTh1m6t7",
        "outputId": "2fd5d2b7-0bfc-459a-da09-5780696636b1"
      },
      "source": [
        "np.asarray(matar)"
      ],
      "execution_count": null,
      "outputs": [
        {
          "output_type": "execute_result",
          "data": {
            "text/plain": [
              "array([[1, 2],\n",
              "       [3, 4]])"
            ]
          },
          "metadata": {
            "tags": []
          },
          "execution_count": 16
        }
      ]
    },
    {
      "cell_type": "code",
      "metadata": {
        "colab": {
          "base_uri": "https://localhost:8080/"
        },
        "id": "5AIkEAw9lwXY",
        "outputId": "0ffe23ef-dad6-4fc2-bf0a-d35d357a5629"
      },
      "source": [
        "array * array"
      ],
      "execution_count": null,
      "outputs": [
        {
          "output_type": "execute_result",
          "data": {
            "text/plain": [
              "array([[ 1,  4],\n",
              "       [ 9, 16]])"
            ]
          },
          "metadata": {
            "tags": []
          },
          "execution_count": 13
        }
      ]
    },
    {
      "cell_type": "code",
      "metadata": {
        "colab": {
          "base_uri": "https://localhost:8080/"
        },
        "id": "o7pktYyVlfXz",
        "outputId": "6e46dd0b-18f2-44a9-b1bb-a52c36a3b660"
      },
      "source": [
        "matar * matar\n"
      ],
      "execution_count": null,
      "outputs": [
        {
          "output_type": "execute_result",
          "data": {
            "text/plain": [
              "matrix([[ 7, 10],\n",
              "        [15, 22]])"
            ]
          },
          "metadata": {
            "tags": []
          },
          "execution_count": 14
        }
      ]
    },
    {
      "cell_type": "code",
      "metadata": {
        "colab": {
          "base_uri": "https://localhost:8080/"
        },
        "id": "na2Bb1OImkx0",
        "outputId": "574462b5-08b0-485e-b72e-3416ba686118"
      },
      "source": [
        "np.dot(array,array)"
      ],
      "execution_count": null,
      "outputs": [
        {
          "output_type": "execute_result",
          "data": {
            "text/plain": [
              "array([[ 7, 10],\n",
              "       [15, 22]])"
            ]
          },
          "metadata": {
            "tags": []
          },
          "execution_count": 15
        }
      ]
    }
  ]
}