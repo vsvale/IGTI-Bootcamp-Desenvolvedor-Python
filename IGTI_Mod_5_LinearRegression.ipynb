{
  "nbformat": 4,
  "nbformat_minor": 0,
  "metadata": {
    "colab": {
      "name": "IGTI_LinearRegression.ipynb",
      "provenance": [],
      "collapsed_sections": [],
      "authorship_tag": "ABX9TyPfhuIBxmcO7nc+xxLdPReO",
      "include_colab_link": true
    },
    "kernelspec": {
      "name": "python3",
      "display_name": "Python 3"
    }
  },
  "cells": [
    {
      "cell_type": "markdown",
      "metadata": {
        "id": "view-in-github",
        "colab_type": "text"
      },
      "source": [
        "<a href=\"https://colab.research.google.com/github/vsvale/IGTI-Bootcamp-Desenvolvedor-Python/blob/main/IGTI_Mod_5_LinearRegression.ipynb\" target=\"_parent\"><img src=\"https://colab.research.google.com/assets/colab-badge.svg\" alt=\"Open In Colab\"/></a>"
      ]
    },
    {
      "cell_type": "markdown",
      "metadata": {
        "id": "y7yeqDm_sGVo"
      },
      "source": [
        "#Linear Regression\n",
        "\n",
        "Regression predictive modeling is the task of approximating a mapping function (f) from input variables (X) to a continuous output variable (y).\n",
        "\n",
        "A continuous output variable is a real-value, such as an integer or floating point value. These are often quantities, such as amounts and sizes."
      ]
    },
    {
      "cell_type": "code",
      "metadata": {
        "id": "16GiRRStp6w-"
      },
      "source": [
        "import matplotlib.pyplot as plt\n",
        "import numpy as np"
      ],
      "execution_count": null,
      "outputs": []
    },
    {
      "cell_type": "code",
      "metadata": {
        "id": "gi7hAohdsdHm"
      },
      "source": [
        "x = [-1.,-0.7,-0.5,-0.3,-0.1,0.1,0.3,0.5,0.7,1]\n",
        "y = [-1.14,-0.57,-0.22,0.54,0.49,1.15,1.64,2.17,2.65,2.95]"
      ],
      "execution_count": null,
      "outputs": []
    },
    {
      "cell_type": "code",
      "metadata": {
        "id": "azRLlczQp-C0",
        "colab": {
          "base_uri": "https://localhost:8080/",
          "height": 334
        },
        "outputId": "8115572e-196d-4e82-acba-d156ea0a33cb"
      },
      "source": [
        "plt.figure(figsize=(10,5))\n",
        "plt.plot(x,y,'o',label='dados originais')# 'o' scatterplot\n",
        "plt.legend()\n",
        "plt.xlabel('x')\n",
        "plt.ylabel('y')\n",
        "plt.grid()\n",
        "plt.show()"
      ],
      "execution_count": null,
      "outputs": [
        {
          "output_type": "display_data",
          "data": {
            "image/png": "[encoded data removed]",
            "text/plain": [
              "<Figure size 720x360 with 1 Axes>"
            ]
          },
          "metadata": {
            "tags": [],
            "needs_background": "light"
          }
        }
      ]
    },
    {
      "cell_type": "code",
      "metadata": {
        "id": "AZbxWoZaqZdZ"
      },
      "source": [
        "x,y = np.array(x).reshape(-1,1),np.array(y).reshape(-1,1)"
      ],
      "execution_count": null,
      "outputs": []
    },
    {
      "cell_type": "code",
      "metadata": {
        "id": "zUzp_6roqkny"
      },
      "source": [
        "from sklearn.linear_model import LinearRegression"
      ],
      "execution_count": null,
      "outputs": []
    },
    {
      "cell_type": "code",
      "metadata": {
        "id": "RQZ0o0ZCqpK8"
      },
      "source": [
        "reg = LinearRegression()"
      ],
      "execution_count": null,
      "outputs": []
    },
    {
      "cell_type": "code",
      "metadata": {
        "id": "VwPtxGblqzkL",
        "colab": {
          "base_uri": "https://localhost:8080/",
          "height": 34
        },
        "outputId": "49d049dc-876d-426b-aaf7-02c45172b4bb"
      },
      "source": [
        "reg.fit(x,y)"
      ],
      "execution_count": null,
      "outputs": [
        {
          "output_type": "execute_result",
          "data": {
            "text/plain": [
              "LinearRegression(copy_X=True, fit_intercept=True, n_jobs=None, normalize=False)"
            ]
          },
          "metadata": {
            "tags": []
          },
          "execution_count": 42
        }
      ]
    },
    {
      "cell_type": "code",
      "metadata": {
        "id": "9aV0aGnMrF1U",
        "colab": {
          "base_uri": "https://localhost:8080/",
          "height": 34
        },
        "outputId": "4a0b915e-6298-4131-8799-e15bb1d10413"
      },
      "source": [
        "#y = a*x + b\n",
        "print('a:',reg.coef_.ravel()[0],'b:',reg.intercept_[0])"
      ],
      "execution_count": null,
      "outputs": [
        {
          "output_type": "stream",
          "text": [
            "a: 2.15625 b: 0.966\n"
          ],
          "name": "stdout"
        }
      ]
    },
    {
      "cell_type": "code",
      "metadata": {
        "id": "1QSiOhEjrhi3",
        "colab": {
          "base_uri": "https://localhost:8080/",
          "height": 194
        },
        "outputId": "71544618-f9ef-45d8-a54e-42ab8d761c76"
      },
      "source": [
        "y_pred = reg.predict(x)\n",
        "y_pred"
      ],
      "execution_count": null,
      "outputs": [
        {
          "output_type": "execute_result",
          "data": {
            "text/plain": [
              "array([[-1.19025 ],\n",
              "       [-0.543375],\n",
              "       [-0.112125],\n",
              "       [ 0.319125],\n",
              "       [ 0.750375],\n",
              "       [ 1.181625],\n",
              "       [ 1.612875],\n",
              "       [ 2.044125],\n",
              "       [ 2.475375],\n",
              "       [ 3.12225 ]])"
            ]
          },
          "metadata": {
            "tags": []
          },
          "execution_count": 48
        }
      ]
    },
    {
      "cell_type": "code",
      "metadata": {
        "id": "8hlrmrrcsOuE",
        "colab": {
          "base_uri": "https://localhost:8080/",
          "height": 34
        },
        "outputId": "02c32dc2-073f-472a-edeb-44efb356b05b"
      },
      "source": [
        "score = reg.score(x,y)\n",
        "score"
      ],
      "execution_count": null,
      "outputs": [
        {
          "output_type": "execute_result",
          "data": {
            "text/plain": [
              "0.9879210250683642"
            ]
          },
          "metadata": {
            "tags": []
          },
          "execution_count": 49
        }
      ]
    },
    {
      "cell_type": "code",
      "metadata": {
        "id": "u1-9TyCEsX1P",
        "colab": {
          "base_uri": "https://localhost:8080/",
          "height": 334
        },
        "outputId": "12ca5e4b-7ce7-4b1c-ce60-6e3f7c30f0a8"
      },
      "source": [
        "Rplt.figure(figsize=(10,5))\n",
        "plt.plot(x,y,'o',label='dados originais')# 'o' scatterplot\n",
        "plt.plot(x,y_pred,'-',label='dados previstos ({:.3f})'.format(score))\n",
        "plt.legend()\n",
        "plt.xlabel('x')\n",
        "plt.ylabel('y')\n",
        "plt.grid()\n",
        "\n",
        "plt.show()"
      ],
      "execution_count": null,
      "outputs": [
        {
          "output_type": "display_data",
          "data": {
            "image/png": "[encoded data removed]",
            "text/plain": [
              "<Figure size 720x360 with 1 Axes>"
            ]
          },
          "metadata": {
            "tags": [],
            "needs_background": "light"
          }
        }
      ]
    },
    {
      "cell_type": "code",
      "metadata": {
        "id": "S3xvy-AdxtbM",
        "colab": {
          "base_uri": "https://localhost:8080/",
          "height": 34
        },
        "outputId": "c718fa0e-139f-4924-9f14-477e039e00b3"
      },
      "source": [
        "#how score is calculated\n",
        "msereg = ((y-y_pred)**2).mean()\n",
        "mseref = ((y-y.mean())**2).mean()\n",
        "score= 1 - (msereg/mseref)\n",
        "score"
      ],
      "execution_count": null,
      "outputs": [
        {
          "output_type": "execute_result",
          "data": {
            "text/plain": [
              "0.9879210250683641"
            ]
          },
          "metadata": {
            "tags": []
          },
          "execution_count": 57
        }
      ]
    }
  ]
}