{
  "nbformat": 4,
  "nbformat_minor": 0,
  "metadata": {
    "colab": {
      "name": "IGTI_Mod_2_Nice_Temperature",
      "provenance": [],
      "collapsed_sections": [],
      "authorship_tag": "ABX9TyONDmf0yXhxwzrUUcrK4I8H",
      "include_colab_link": true
    },
    "kernelspec": {
      "name": "python3",
      "display_name": "Python 3"
    }
  },
  "cells": [
    {
      "cell_type": "markdown",
      "metadata": {
        "id": "view-in-github",
        "colab_type": "text"
      },
      "source": [
        "<a href=\"https://colab.research.google.com/github/vsvale/IGTI-Bootcamp-Desenvolvedor-Python/blob/main/IGTI_Mod_2_Nice_Temperature.ipynb\" target=\"_parent\"><img src=\"https://colab.research.google.com/assets/colab-badge.svg\" alt=\"Open In Colab\"/></a>"
      ]
    },
    {
      "cell_type": "markdown",
      "metadata": {
        "id": "ivfA4XFA40lc"
      },
      "source": [
        "# Classification\n",
        "Classification predictive modeling is the task of approximating a mapping function (f) from input variables (X) to discrete output variables (y).\n",
        "\n",
        "The output variables are often called labels or categories. The mapping function predicts the class or category for a given observation."
      ]
    },
    {
      "cell_type": "code",
      "metadata": {
        "id": "GduoV6Ocs8nC"
      },
      "source": [
        "import pandas as pd\n",
        "df = pd.read_csv(\"https://pycourse.s3.amazonaws.com/temperature.csv\")"
      ],
      "execution_count": null,
      "outputs": []
    },
    {
      "cell_type": "code",
      "metadata": {
        "id": "qgYdurpHtYcp"
      },
      "source": [
        "#to numpy array, y(x)\n",
        "x,y = df[['temperatura']].values, df[['classification']].values"
      ],
      "execution_count": null,
      "outputs": []
    },
    {
      "cell_type": "code",
      "metadata": {
        "id": "H_Lo0JIstrKS",
        "colab": {
          "base_uri": "https://localhost:8080/",
          "height": 141
        },
        "outputId": "581a7e26-5eca-48e1-f442-70851715a9b1"
      },
      "source": [
        "#convert labels to number\n",
        "from sklearn.preprocessing import LabelEncoder\n",
        "print(y)\n",
        "le = LabelEncoder()\n",
        "y = le.fit_transform(y.ravel())#ravel for 1 dimension array\n",
        "print(y)"
      ],
      "execution_count": null,
      "outputs": [
        {
          "output_type": "stream",
          "text": [
            "[['quente']\n",
            " ['muito quente']\n",
            " ['quente']\n",
            " ['quente']\n",
            " ['confortavel']\n",
            " ['frio']]\n",
            "[3 2 3 3 0 1]\n"
          ],
          "name": "stdout"
        }
      ]
    },
    {
      "cell_type": "code",
      "metadata": {
        "id": "RnzVtlYTuD-Q",
        "colab": {
          "base_uri": "https://localhost:8080/",
          "height": 105
        },
        "outputId": "cb177d66-29fc-45bb-ae6c-69cb6fc5a2d3"
      },
      "source": [
        "from sklearn.linear_model import LogisticRegression\n",
        "clf = LogisticRegression()\n",
        "clf.fit(x,y) #train with data to find best coefficients"
      ],
      "execution_count": null,
      "outputs": [
        {
          "output_type": "execute_result",
          "data": {
            "text/plain": [
              "LogisticRegression(C=1.0, class_weight=None, dual=False, fit_intercept=True,\n",
              "                   intercept_scaling=1, l1_ratio=None, max_iter=100,\n",
              "                   multi_class='auto', n_jobs=None, penalty='l2',\n",
              "                   random_state=None, solver='lbfgs', tol=0.0001, verbose=0,\n",
              "                   warm_start=False)"
            ]
          },
          "metadata": {
            "tags": []
          },
          "execution_count": 23
        }
      ]
    },
    {
      "cell_type": "code",
      "metadata": {
        "id": "XRz09LkUuV0t"
      },
      "source": [
        "from numpy import linspace\n",
        "#100 temperatures between -15 and 45\n",
        "x_test = linspace(start=-15.,stop=45.,num=100).reshape(-1,1)"
      ],
      "execution_count": null,
      "outputs": []
    },
    {
      "cell_type": "code",
      "metadata": {
        "id": "6R80JTZMu583",
        "colab": {
          "base_uri": "https://localhost:8080/",
          "height": 105
        },
        "outputId": "e7f3451b-8bd8-46e7-e72a-fa63a5c4835c"
      },
      "source": [
        "y_pred = clf.predict(x_test)\n",
        "y_pred"
      ],
      "execution_count": null,
      "outputs": [
        {
          "output_type": "execute_result",
          "data": {
            "text/plain": [
              "array([1, 1, 1, 1, 1, 1, 1, 1, 1, 1, 1, 1, 1, 1, 1, 1, 1, 1, 1, 1, 1, 1,\n",
              "       1, 1, 1, 1, 1, 1, 1, 1, 1, 1, 1, 1, 1, 1, 1, 1, 1, 1, 1, 1, 1, 1,\n",
              "       1, 1, 1, 1, 1, 1, 1, 1, 1, 1, 1, 1, 1, 1, 1, 1, 1, 1, 0, 0, 0, 0,\n",
              "       0, 3, 3, 3, 3, 3, 3, 3, 3, 3, 2, 2, 2, 2, 2, 2, 2, 2, 2, 2, 2, 2,\n",
              "       2, 2, 2, 2, 2, 2, 2, 2, 2, 2, 2, 2])"
            ]
          },
          "metadata": {
            "tags": []
          },
          "execution_count": 25
        }
      ]
    },
    {
      "cell_type": "code",
      "metadata": {
        "id": "vvNrnTTCvDSI",
        "colab": {
          "base_uri": "https://localhost:8080/",
          "height": 318
        },
        "outputId": "937fe7f4-433b-4c1f-8be4-a513414e4f23"
      },
      "source": [
        "#back to original labels\n",
        "y_pred=le.inverse_transform(y_pred)\n",
        "y_pred"
      ],
      "execution_count": null,
      "outputs": [
        {
          "output_type": "execute_result",
          "data": {
            "text/plain": [
              "array(['frio', 'frio', 'frio', 'frio', 'frio', 'frio', 'frio', 'frio',\n",
              "       'frio', 'frio', 'frio', 'frio', 'frio', 'frio', 'frio', 'frio',\n",
              "       'frio', 'frio', 'frio', 'frio', 'frio', 'frio', 'frio', 'frio',\n",
              "       'frio', 'frio', 'frio', 'frio', 'frio', 'frio', 'frio', 'frio',\n",
              "       'frio', 'frio', 'frio', 'frio', 'frio', 'frio', 'frio', 'frio',\n",
              "       'frio', 'frio', 'frio', 'frio', 'frio', 'frio', 'frio', 'frio',\n",
              "       'frio', 'frio', 'frio', 'frio', 'frio', 'frio', 'frio', 'frio',\n",
              "       'frio', 'frio', 'frio', 'frio', 'frio', 'frio', 'confortavel',\n",
              "       'confortavel', 'confortavel', 'confortavel', 'confortavel',\n",
              "       'quente', 'quente', 'quente', 'quente', 'quente', 'quente',\n",
              "       'quente', 'quente', 'quente', 'muito quente', 'muito quente',\n",
              "       'muito quente', 'muito quente', 'muito quente', 'muito quente',\n",
              "       'muito quente', 'muito quente', 'muito quente', 'muito quente',\n",
              "       'muito quente', 'muito quente', 'muito quente', 'muito quente',\n",
              "       'muito quente', 'muito quente', 'muito quente', 'muito quente',\n",
              "       'muito quente', 'muito quente', 'muito quente', 'muito quente',\n",
              "       'muito quente', 'muito quente'], dtype=object)"
            ]
          },
          "metadata": {
            "tags": []
          },
          "execution_count": 26
        }
      ]
    },
    {
      "cell_type": "code",
      "metadata": {
        "id": "UMgMmJ2vvQX7"
      },
      "source": [
        "output = {'temp':x_test.ravel(),\n",
        "          'class':y_pred.ravel()}\n",
        "output = pd.DataFrame(output)"
      ],
      "execution_count": null,
      "outputs": []
    },
    {
      "cell_type": "code",
      "metadata": {
        "id": "BbztQDNrv0i-",
        "colab": {
          "base_uri": "https://localhost:8080/",
          "height": 406
        },
        "outputId": "64b152bd-0543-40f8-ca9a-09ddc22f7744"
      },
      "source": [
        "output"
      ],
      "execution_count": null,
      "outputs": [
        {
          "output_type": "execute_result",
          "data": {
            "text/html": [
              "<div>\n",
              "<style scoped>\n",
              "    .dataframe tbody tr th:only-of-type {\n",
              "        vertical-align: middle;\n",
              "    }\n",
              "\n",
              "    .dataframe tbody tr th {\n",
              "        vertical-align: top;\n",
              "    }\n",
              "\n",
              "    .dataframe thead th {\n",
              "        text-align: right;\n",
              "    }\n",
              "</style>\n",
              "<table border=\"1\" class=\"dataframe\">\n",
              "  <thead>\n",
              "    <tr style=\"text-align: right;\">\n",
              "      <th></th>\n",
              "      <th>temp</th>\n",
              "      <th>class</th>\n",
              "    </tr>\n",
              "  </thead>\n",
              "  <tbody>\n",
              "    <tr>\n",
              "      <th>0</th>\n",
              "      <td>-15.000000</td>\n",
              "      <td>frio</td>\n",
              "    </tr>\n",
              "    <tr>\n",
              "      <th>1</th>\n",
              "      <td>-14.393939</td>\n",
              "      <td>frio</td>\n",
              "    </tr>\n",
              "    <tr>\n",
              "      <th>2</th>\n",
              "      <td>-13.787879</td>\n",
              "      <td>frio</td>\n",
              "    </tr>\n",
              "    <tr>\n",
              "      <th>3</th>\n",
              "      <td>-13.181818</td>\n",
              "      <td>frio</td>\n",
              "    </tr>\n",
              "    <tr>\n",
              "      <th>4</th>\n",
              "      <td>-12.575758</td>\n",
              "      <td>frio</td>\n",
              "    </tr>\n",
              "    <tr>\n",
              "      <th>...</th>\n",
              "      <td>...</td>\n",
              "      <td>...</td>\n",
              "    </tr>\n",
              "    <tr>\n",
              "      <th>95</th>\n",
              "      <td>42.575758</td>\n",
              "      <td>muito quente</td>\n",
              "    </tr>\n",
              "    <tr>\n",
              "      <th>96</th>\n",
              "      <td>43.181818</td>\n",
              "      <td>muito quente</td>\n",
              "    </tr>\n",
              "    <tr>\n",
              "      <th>97</th>\n",
              "      <td>43.787879</td>\n",
              "      <td>muito quente</td>\n",
              "    </tr>\n",
              "    <tr>\n",
              "      <th>98</th>\n",
              "      <td>44.393939</td>\n",
              "      <td>muito quente</td>\n",
              "    </tr>\n",
              "    <tr>\n",
              "      <th>99</th>\n",
              "      <td>45.000000</td>\n",
              "      <td>muito quente</td>\n",
              "    </tr>\n",
              "  </tbody>\n",
              "</table>\n",
              "<p>100 rows × 2 columns</p>\n",
              "</div>"
            ],
            "text/plain": [
              "         temp         class\n",
              "0  -15.000000          frio\n",
              "1  -14.393939          frio\n",
              "2  -13.787879          frio\n",
              "3  -13.181818          frio\n",
              "4  -12.575758          frio\n",
              "..        ...           ...\n",
              "95  42.575758  muito quente\n",
              "96  43.181818  muito quente\n",
              "97  43.787879  muito quente\n",
              "98  44.393939  muito quente\n",
              "99  45.000000  muito quente\n",
              "\n",
              "[100 rows x 2 columns]"
            ]
          },
          "metadata": {
            "tags": []
          },
          "execution_count": 28
        }
      ]
    },
    {
      "cell_type": "code",
      "metadata": {
        "id": "xukQcgfvv_h_",
        "colab": {
          "base_uri": "https://localhost:8080/",
          "height": 318
        },
        "outputId": "87bf06f1-262e-47ef-aeeb-b8f3cc792f82"
      },
      "source": [
        "output.boxplot(by='class')"
      ],
      "execution_count": null,
      "outputs": [
        {
          "output_type": "execute_result",
          "data": {
            "text/plain": [
              "<matplotlib.axes._subplots.AxesSubplot at 0x7f7b05b4e9b0>"
            ]
          },
          "metadata": {
            "tags": []
          },
          "execution_count": 29
        },
        {
          "output_type": "display_data",
          "data": {
            "image/png": "[encoded data removed]",
            "text/plain": [
              "<Figure size 432x288 with 1 Axes>"
            ]
          },
          "metadata": {
            "tags": [],
            "needs_background": "light"
          }
        }
      ]
    },
    {
      "cell_type": "code",
      "metadata": {
        "id": "YLI7N-eRZgXM",
        "colab": {
          "base_uri": "https://localhost:8080/",
          "height": 35
        },
        "outputId": "e85c2fab-9fa7-419a-a5c2-c0b9bb86d926"
      },
      "source": [
        "def classify_temp(temp:float):\n",
        "  import numpy as np\n",
        "  try:\n",
        "    temp = float(temp)\n",
        "  except:\n",
        "    print('Invalid Input')\n",
        "  temp = np.array(temp).reshape(-1,1)\n",
        "  clasif_temp = clf.predict(temp)\n",
        "  clasif_temp = le.inverse_transform(clasif_temp)\n",
        "  return clasif_temp[0]\n",
        "\n",
        "classify_temp(25)"
      ],
      "execution_count": null,
      "outputs": [
        {
          "output_type": "execute_result",
          "data": {
            "application/vnd.google.colaboratory.intrinsic+json": {
              "type": "string"
            },
            "text/plain": [
              "'confortavel'"
            ]
          },
          "metadata": {
            "tags": []
          },
          "execution_count": 30
        }
      ]
    }
  ]
}
