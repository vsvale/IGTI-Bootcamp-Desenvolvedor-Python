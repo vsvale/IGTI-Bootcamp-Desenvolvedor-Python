{
  "nbformat": 4,
  "nbformat_minor": 0,
  "metadata": {
    "colab": {
      "name": "IGTI_Twitter.ipynb",
      "provenance": [],
      "collapsed_sections": [],
      "authorship_tag": "ABX9TyNoxby1IR/BFkaV48iE9oLJ",
      "include_colab_link": true
    },
    "kernelspec": {
      "name": "python3",
      "display_name": "Python 3"
    }
  },
  "cells": [
    {
      "cell_type": "markdown",
      "metadata": {
        "id": "view-in-github",
        "colab_type": "text"
      },
      "source": [
        "<a href=\"https://colab.research.google.com/github/vsvale/IGTI-Bootcamp-Desenvolvedor-Python/blob/main/IGTI_Mod_2_API_Twitter.ipynb\" target=\"_parent\"><img src=\"https://colab.research.google.com/assets/colab-badge.svg\" alt=\"Open In Colab\"/></a>"
      ]
    },
    {
      "cell_type": "code",
      "metadata": {
        "id": "rdtL474IEWpk",
        "colab": {
          "base_uri": "https://localhost:8080/",
          "height": 194
        },
        "outputId": "47fba833-b917-49d4-a9fe-90371bd1c0f2"
      },
      "source": [
        "!pip install tweepy"
      ],
      "execution_count": null,
      "outputs": [
        {
          "output_type": "stream",
          "text": [
            "Requirement already satisfied: tweepy in /usr/local/lib/python3.6/dist-packages (3.6.0)\n",
            "Requirement already satisfied: requests-oauthlib>=0.7.0 in /usr/local/lib/python3.6/dist-packages (from tweepy) (1.3.0)\n",
            "Requirement already satisfied: PySocks>=1.5.7 in /usr/local/lib/python3.6/dist-packages (from tweepy) (1.7.1)\n",
            "Requirement already satisfied: requests>=2.11.1 in /usr/local/lib/python3.6/dist-packages (from tweepy) (2.23.0)\n",
            "Requirement already satisfied: six>=1.10.0 in /usr/local/lib/python3.6/dist-packages (from tweepy) (1.15.0)\n",
            "Requirement already satisfied: oauthlib>=3.0.0 in /usr/local/lib/python3.6/dist-packages (from requests-oauthlib>=0.7.0->tweepy) (3.1.0)\n",
            "Requirement already satisfied: certifi>=2017.4.17 in /usr/local/lib/python3.6/dist-packages (from requests>=2.11.1->tweepy) (2020.6.20)\n",
            "Requirement already satisfied: chardet<4,>=3.0.2 in /usr/local/lib/python3.6/dist-packages (from requests>=2.11.1->tweepy) (3.0.4)\n",
            "Requirement already satisfied: urllib3!=1.25.0,!=1.25.1,<1.26,>=1.21.1 in /usr/local/lib/python3.6/dist-packages (from requests>=2.11.1->tweepy) (1.24.3)\n",
            "Requirement already satisfied: idna<3,>=2.5 in /usr/local/lib/python3.6/dist-packages (from requests>=2.11.1->tweepy) (2.10)\n"
          ],
          "name": "stdout"
        }
      ]
    },
    {
      "cell_type": "code",
      "metadata": {
        "id": "m-Zo40AOFhp1"
      },
      "source": [
        "import tweepy\n",
        "import json"
      ],
      "execution_count": null,
      "outputs": []
    },
    {
      "cell_type": "code",
      "metadata": {
        "id": "JDuDMt1OFlYR"
      },
      "source": [
        "from google.colab import files\n",
        "uploaded = files.upload()\n",
        "with open('credentials.json') as arquivo:\n",
        "  credenciais = json.load(arquivo)"
      ],
      "execution_count": null,
      "outputs": []
    },
    {
      "cell_type": "code",
      "metadata": {
        "id": "4M0QrqEvGKkN"
      },
      "source": [
        "#credentials\n",
        "auth = tweepy.OAuthHandler(credenciais['consumer_key'], credenciais['consumer_secret'])\n",
        "auth.set_access_token(credenciais['access_token'], credenciais['access_token_secret'])\n",
        "api = tweepy.API(auth)"
      ],
      "execution_count": null,
      "outputs": []
    },
    {
      "cell_type": "code",
      "metadata": {
        "id": "_juJulHKGlp6",
        "colab": {
          "base_uri": "https://localhost:8080/",
          "height": 387
        },
        "outputId": "6883695c-a2ae-4953-d3a8-3e8139cba4e2"
      },
      "source": [
        "#get tweets in timeline and print\n",
        "\n",
        "tweets_timeline = api.home_timeline()\n",
        "for tweet in tweets_timeline:\n",
        "   print(tweet.text)#json.text"
      ],
      "execution_count": null,
      "outputs": [
        {
          "output_type": "error",
          "ename": "RateLimitError",
          "evalue": "ignored",
          "traceback": [
            "\u001b[0;31m---------------------------------------------------------------------------\u001b[0m",
            "\u001b[0;31mRateLimitError\u001b[0m                            Traceback (most recent call last)",
            "\u001b[0;32m<ipython-input-26-25092aeb2a8f>\u001b[0m in \u001b[0;36m<module>\u001b[0;34m()\u001b[0m\n\u001b[1;32m      1\u001b[0m \u001b[0;31m#get tweets in timeline and print\u001b[0m\u001b[0;34m\u001b[0m\u001b[0;34m\u001b[0m\u001b[0;34m\u001b[0m\u001b[0m\n\u001b[1;32m      2\u001b[0m \u001b[0;34m\u001b[0m\u001b[0m\n\u001b[0;32m----> 3\u001b[0;31m \u001b[0mtweets_timeline\u001b[0m \u001b[0;34m=\u001b[0m \u001b[0mapi\u001b[0m\u001b[0;34m.\u001b[0m\u001b[0mhome_timeline\u001b[0m\u001b[0;34m(\u001b[0m\u001b[0;34m)\u001b[0m\u001b[0;34m\u001b[0m\u001b[0;34m\u001b[0m\u001b[0m\n\u001b[0m\u001b[1;32m      4\u001b[0m \u001b[0;32mfor\u001b[0m \u001b[0mtweet\u001b[0m \u001b[0;32min\u001b[0m \u001b[0mtweets_timeline\u001b[0m\u001b[0;34m:\u001b[0m\u001b[0;34m\u001b[0m\u001b[0;34m\u001b[0m\u001b[0m\n\u001b[1;32m      5\u001b[0m    \u001b[0mprint\u001b[0m\u001b[0;34m(\u001b[0m\u001b[0mtweet\u001b[0m\u001b[0;34m.\u001b[0m\u001b[0mtext\u001b[0m\u001b[0;34m)\u001b[0m\u001b[0;31m#json.text\u001b[0m\u001b[0;34m\u001b[0m\u001b[0;34m\u001b[0m\u001b[0m\n",
            "\u001b[0;32m/usr/local/lib/python3.6/dist-packages/tweepy/binder.py\u001b[0m in \u001b[0;36m_call\u001b[0;34m(*args, **kwargs)\u001b[0m\n\u001b[1;32m    248\u001b[0m             \u001b[0;32mreturn\u001b[0m \u001b[0mmethod\u001b[0m\u001b[0;34m\u001b[0m\u001b[0;34m\u001b[0m\u001b[0m\n\u001b[1;32m    249\u001b[0m         \u001b[0;32melse\u001b[0m\u001b[0;34m:\u001b[0m\u001b[0;34m\u001b[0m\u001b[0;34m\u001b[0m\u001b[0m\n\u001b[0;32m--> 250\u001b[0;31m             \u001b[0;32mreturn\u001b[0m \u001b[0mmethod\u001b[0m\u001b[0;34m.\u001b[0m\u001b[0mexecute\u001b[0m\u001b[0;34m(\u001b[0m\u001b[0;34m)\u001b[0m\u001b[0;34m\u001b[0m\u001b[0;34m\u001b[0m\u001b[0m\n\u001b[0m\u001b[1;32m    251\u001b[0m \u001b[0;34m\u001b[0m\u001b[0m\n\u001b[1;32m    252\u001b[0m     \u001b[0;31m# Set pagination mode\u001b[0m\u001b[0;34m\u001b[0m\u001b[0;34m\u001b[0m\u001b[0;34m\u001b[0m\u001b[0m\n",
            "\u001b[0;32m/usr/local/lib/python3.6/dist-packages/tweepy/binder.py\u001b[0m in \u001b[0;36mexecute\u001b[0;34m(self)\u001b[0m\n\u001b[1;32m    230\u001b[0m \u001b[0;34m\u001b[0m\u001b[0m\n\u001b[1;32m    231\u001b[0m                 \u001b[0;32mif\u001b[0m \u001b[0mis_rate_limit_error_message\u001b[0m\u001b[0;34m(\u001b[0m\u001b[0merror_msg\u001b[0m\u001b[0;34m)\u001b[0m\u001b[0;34m:\u001b[0m\u001b[0;34m\u001b[0m\u001b[0;34m\u001b[0m\u001b[0m\n\u001b[0;32m--> 232\u001b[0;31m                     \u001b[0;32mraise\u001b[0m \u001b[0mRateLimitError\u001b[0m\u001b[0;34m(\u001b[0m\u001b[0merror_msg\u001b[0m\u001b[0;34m,\u001b[0m \u001b[0mresp\u001b[0m\u001b[0;34m)\u001b[0m\u001b[0;34m\u001b[0m\u001b[0;34m\u001b[0m\u001b[0m\n\u001b[0m\u001b[1;32m    233\u001b[0m                 \u001b[0;32melse\u001b[0m\u001b[0;34m:\u001b[0m\u001b[0;34m\u001b[0m\u001b[0;34m\u001b[0m\u001b[0m\n\u001b[1;32m    234\u001b[0m                     \u001b[0;32mraise\u001b[0m \u001b[0mTweepError\u001b[0m\u001b[0;34m(\u001b[0m\u001b[0merror_msg\u001b[0m\u001b[0;34m,\u001b[0m \u001b[0mresp\u001b[0m\u001b[0;34m,\u001b[0m \u001b[0mapi_code\u001b[0m\u001b[0;34m=\u001b[0m\u001b[0mapi_error_code\u001b[0m\u001b[0;34m)\u001b[0m\u001b[0;34m\u001b[0m\u001b[0;34m\u001b[0m\u001b[0m\n",
            "\u001b[0;31mRateLimitError\u001b[0m: [{'message': 'Rate limit exceeded', 'code': 88}]"
          ]
        }
      ]
    },
    {
      "cell_type": "code",
      "metadata": {
        "id": "J12S_DiPHNeV",
        "colab": {
          "base_uri": "https://localhost:8080/",
          "height": 1000
        },
        "outputId": "584ef2ab-f2c7-409b-ab5c-7682961d5eed"
      },
      "source": [
        "api = tweepy.API(auth)\n",
        "searchword = \"Python vaga\"\n",
        "language = \"pt\"\n",
        "\n",
        "#search tweets\n",
        "resultset = api.search(q=searchword, lang=language)\n",
        "\n",
        "for tweet in resultset:\n",
        "   print(tweet.user.screen_name,\"=>\",tweet.text)"
      ],
      "execution_count": null,
      "outputs": [
        {
          "output_type": "stream",
          "text": [
            "RIOEMPREGOCERTO => Desenvolvedor Python - Pleno e Sênior - Global Hitss - Jacarepaguá - https://t.co/LdlHxDyiBP https://t.co/S8slRjdmQx\n",
            "riovagas => Desenvolvedor Backend Pleno Python (Soluções Financeiras) – Rio de Janeiro – Rio de Janeiro Para se candidatar, cli… https://t.co/Pt3OXiChW9\n",
            "elxbarbosa => RT @liviagabos: Uma amiga procura pessoa que tenha experiência em:\n",
            "Django\n",
            "Python\n",
            "Rest API \n",
            "Filas (redis, django-q)\n",
            "Moodle\n",
            "\n",
            "Vaga Remota temp…\n",
            "psmcsdev => RT @liviagabos: Uma amiga procura pessoa que tenha experiência em:\n",
            "Django\n",
            "Python\n",
            "Rest API \n",
            "Filas (redis, django-q)\n",
            "Moodle\n",
            "\n",
            "Vaga Remota temp…\n",
            "VagasDev => RT @liviagabos: Uma amiga procura pessoa que tenha experiência em:\n",
            "Django\n",
            "Python\n",
            "Rest API \n",
            "Filas (redis, django-q)\n",
            "Moodle\n",
            "\n",
            "Vaga Remota temp…\n",
            "Raimund0Rafael => RT @liviagabos: Uma amiga procura pessoa que tenha experiência em:\n",
            "Django\n",
            "Python\n",
            "Rest API \n",
            "Filas (redis, django-q)\n",
            "Moodle\n",
            "\n",
            "Vaga Remota temp…\n",
            "zealberth => RT @liviagabos: Uma amiga procura pessoa que tenha experiência em:\n",
            "Django\n",
            "Python\n",
            "Rest API \n",
            "Filas (redis, django-q)\n",
            "Moodle\n",
            "\n",
            "Vaga Remota temp…\n",
            "Zunoblade => RT @liviagabos: Uma amiga procura pessoa que tenha experiência em:\n",
            "Django\n",
            "Python\n",
            "Rest API \n",
            "Filas (redis, django-q)\n",
            "Moodle\n",
            "\n",
            "Vaga Remota temp…\n",
            "belpetit => RT @liviagabos: Uma amiga procura pessoa que tenha experiência em:\n",
            "Django\n",
            "Python\n",
            "Rest API \n",
            "Filas (redis, django-q)\n",
            "Moodle\n",
            "\n",
            "Vaga Remota temp…\n",
            "relicarinho => RT @liviagabos: Uma amiga procura pessoa que tenha experiência em:\n",
            "Django\n",
            "Python\n",
            "Rest API \n",
            "Filas (redis, django-q)\n",
            "Moodle\n",
            "\n",
            "Vaga Remota temp…\n",
            "tham_zzz => RT @liviagabos: Uma amiga procura pessoa que tenha experiência em:\n",
            "Django\n",
            "Python\n",
            "Rest API \n",
            "Filas (redis, django-q)\n",
            "Moodle\n",
            "\n",
            "Vaga Remota temp…\n",
            "tiagoc79 => RT @oUmGuido: Vaga de Python, ganhando em dólar e 100% remoto. Precisa se comunicar em inglês. Se interessar a vocês, entrem em contato por…\n",
            "rafaelmb => RT @liviagabos: Uma amiga procura pessoa que tenha experiência em:\n",
            "Django\n",
            "Python\n",
            "Rest API \n",
            "Filas (redis, django-q)\n",
            "Moodle\n",
            "\n",
            "Vaga Remota temp…\n",
            "veridiem => RT @liviagabos: Uma amiga procura pessoa que tenha experiência em:\n",
            "Django\n",
            "Python\n",
            "Rest API \n",
            "Filas (redis, django-q)\n",
            "Moodle\n",
            "\n",
            "Vaga Remota temp…\n",
            "moacirmoda => RT @oUmGuido: Vaga de Python, ganhando em dólar e 100% remoto. Precisa se comunicar em inglês. Se interessar a vocês, entrem em contato por…\n"
          ],
          "name": "stdout"
        }
      ]
    },
    {
      "cell_type": "code",
      "metadata": {
        "id": "_2N68I-1JLA6",
        "colab": {
          "base_uri": "https://localhost:8080/",
          "height": 905
        },
        "outputId": "dfa23066-b5c7-417e-a751-66ff8684118c"
      },
      "source": [
        "#trend topics\n",
        "BRAZIL_WOE_ID = 23424768\n",
        "\n",
        "brazil_trends = api.trends_place(BRAZIL_WOE_ID)\n",
        "\n",
        "trends = json.loads(json.dumps(brazil_trends, indent=1))\n",
        "\n",
        "for trend in trends[0][\"trends\"]:\n",
        "\tprint (trend[\"name\"])#.strip(\"#\"))"
      ],
      "execution_count": null,
      "outputs": [
        {
          "output_type": "stream",
          "text": [
            "azealia\n",
            "#PlaticandoConMaite\n",
            "Enola Holmes\n",
            "#AsiloTaON\n",
            "#gitmeeda\n",
            "#exoleavesm\n",
            "#VisibilidadeBi\n",
            "Grenal\n",
            "Riachuelo\n",
            "havertz\n",
            "Se o Vasco\n",
            "Borges\n",
            "luisa mell\n",
            "QUÃO ECLÉTICO VOCÊ É\n",
            "jade picon\n",
            "jaeden\n",
            "adore you\n",
            "barnsley\n",
            "Abraham\n",
            "Romário\n",
            "paul mescal\n",
            "frota\n",
            "ashton\n",
            "CPMF\n",
            "Suarez\n",
            "Paguei 5\n",
            "Henry Cavill\n",
            "Giroud\n",
            "Aos 20\n",
            "bellerin\n",
            "Bernard\n",
            "Ebony\n",
            "Alexandre Garcia\n",
            "emori\n",
            "Caio Rosa\n",
            "Caballero\n",
            "#QuandoMeApaixono048\n",
            "#FestinhaNoMTVHits\n",
            "#oqueavidameroubou113\n",
            "#LulaNaONU\n",
            "#BrazilLovesRichard\n",
            "#TVZNoMultishow\n",
            "#PS5eXboxMaisBaratos\n",
            "#BrasileiraoFeminino\n",
            "#MexeuComACaixaMexeuComOBrasil\n",
            "#SCBrasilDeCasa\n",
            "#NãoEraSorvete\n",
            "#17YearsofOTH\n",
            "#LaçosDeFamilia\n",
            "#SelfiesForRatched\n"
          ],
          "name": "stdout"
        }
      ]
    }
  ]
}