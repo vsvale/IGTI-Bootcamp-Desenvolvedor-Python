{
  "nbformat": 4,
  "nbformat_minor": 0,
  "metadata": {
    "colab": {
      "name": "IGTI_Multiprocessing.ipynb",
      "provenance": [],
      "collapsed_sections": [],
      "authorship_tag": "ABX9TyO+TtHH7tuVdYh6w241enCj",
      "include_colab_link": true
    },
    "kernelspec": {
      "name": "python3",
      "display_name": "Python 3"
    }
  },
  "cells": [
    {
      "cell_type": "markdown",
      "metadata": {
        "id": "view-in-github",
        "colab_type": "text"
      },
      "source": [
        "<a href=\"https://colab.research.google.com/github/vsvale/IGTI-Bootcamp-Desenvolvedor-Python/blob/main/IGTI_Mod_5_Multiprocessing.ipynb\" target=\"_parent\"><img src=\"https://colab.research.google.com/assets/colab-badge.svg\" alt=\"Open In Colab\"/></a>"
      ]
    },
    {
      "cell_type": "code",
      "metadata": {
        "id": "Ng0s3Qhs82Sr",
        "colab": {
          "base_uri": "https://localhost:8080/"
        },
        "outputId": "f87e60ad-33f1-4d4d-a050-3921a4f92a37"
      },
      "source": [
        "import multiprocessing\n",
        "multiprocessing.cpu_count()"
      ],
      "execution_count": null,
      "outputs": [
        {
          "output_type": "execute_result",
          "data": {
            "text/plain": [
              "2"
            ]
          },
          "metadata": {
            "tags": []
          },
          "execution_count": 1
        }
      ]
    },
    {
      "cell_type": "code",
      "metadata": {
        "id": "py9sakWN9I0g"
      },
      "source": [
        "from threading import Thread\n",
        "from  urllib.request import urlretrieve\n",
        "from  time import time"
      ],
      "execution_count": null,
      "outputs": []
    },
    {
      "cell_type": "markdown",
      "metadata": {
        "id": "sXitm8SGAfA3"
      },
      "source": [
        "# No Thereading"
      ]
    },
    {
      "cell_type": "code",
      "metadata": {
        "id": "HqXvkTFf9XEQ",
        "colab": {
          "base_uri": "https://localhost:8080/"
        },
        "outputId": "94f0662c-d133-4aaf-82c6-af54ab4b2ccd"
      },
      "source": [
        "t0= time()\n",
        "for i in range(10):\n",
        "  imageName = 'image-'+str(i)+'.jpg'\n",
        "  urlretrieve('http://lorempixel.com/400/200/sports',imageName)\n",
        "\n",
        "t1 = time()\n",
        "totaltime = t1-t0\n",
        "print(totaltime)"
      ],
      "execution_count": null,
      "outputs": [
        {
          "output_type": "stream",
          "text": [
            "7.515573263168335\n"
          ],
          "name": "stdout"
        }
      ]
    },
    {
      "cell_type": "markdown",
      "metadata": {
        "id": "dCJLPlmZAkhA"
      },
      "source": [
        "# Thereading"
      ]
    },
    {
      "cell_type": "code",
      "metadata": {
        "id": "I81vAitxAr1Q",
        "colab": {
          "base_uri": "https://localhost:8080/"
        },
        "outputId": "1cbfaa25-09ec-462d-869b-e2d586565df5"
      },
      "source": [
        "def executeThread(i):\n",
        "  imageName = 'image-'+str(i)+'.jpg'\n",
        "  urlretrieve('http://lorempixel.com/400/200/sports',imageName)\n",
        "\n",
        "t0= time()\n",
        "\n",
        "threads = []\n",
        "\n",
        "for i in range(10):\n",
        "  thread = Thread(target=executeThread,args=(i,))\n",
        "  threads.append(thread)\n",
        "  thread.start()\n",
        "\n",
        "for i in threads:\n",
        "  i.join()\n",
        "t1 = time()\n",
        "totaltime = t1-t0\n",
        "print(totaltime)"
      ],
      "execution_count": null,
      "outputs": [
        {
          "output_type": "stream",
          "text": [
            "0.9514729976654053\n"
          ],
          "name": "stdout"
        }
      ]
    },
    {
      "cell_type": "markdown",
      "metadata": {
        "id": "7Pg2LgYgJ70R"
      },
      "source": [
        "# Multitasking"
      ]
    },
    {
      "cell_type": "code",
      "metadata": {
        "id": "8GCp8Qo_GwF-",
        "colab": {
          "base_uri": "https://localhost:8080/"
        },
        "outputId": "3db8bbef-352f-4eeb-ec90-ffb9f7bdc22f"
      },
      "source": [
        "from threading import Thread\n",
        "from  time import time,sleep\n",
        "from random import randint\n",
        "\n",
        "counter = 0\n",
        "\n",
        "def tarefaA():\n",
        "  global counter\n",
        "  while counter < 3:\n",
        "    counter +=1\n",
        "    print('TarefaA',counter)\n",
        "    sleepTime = randint(0,3)\n",
        "    sleep(sleepTime)\n",
        "\n",
        "def tarefaB():\n",
        "  global counter\n",
        "  while counter > -3:\n",
        "    counter -=1\n",
        "    print('TarefaB',counter)\n",
        "    sleepTime = randint(0,3)\n",
        "    sleep(sleepTime)\n",
        "\n",
        "t0=time()\n",
        "thread1 = Thread(target=tarefaA)\n",
        "thread2 = Thread(target=tarefaB)\n",
        "\n",
        "thread1.start()\n",
        "thread2.start()\n",
        "\n",
        "thread1.join()\n",
        "thread2.join()\n",
        "\n",
        "t1 = time()\n",
        "totaltime = t1-t0\n",
        "print(totaltime)"
      ],
      "execution_count": null,
      "outputs": [
        {
          "output_type": "stream",
          "text": [
            "TarefaA 1\n",
            "TarefaB 0\n",
            "TarefaA 1\n",
            "TarefaB 0\n",
            "TarefaB -1\n",
            "TarefaB -2\n",
            "TarefaA -1\n",
            "TarefaB -2\n",
            "TarefaA -1\n",
            "TarefaB -2\n",
            "TarefaB -3\n",
            "TarefaA -2\n",
            "TarefaBTarefaA -3\n",
            " -2\n",
            "TarefaA -1\n",
            "TarefaB -2\n",
            "TarefaA -1\n",
            "TarefaB -2\n",
            "TarefaA -1\n",
            "TarefaB -2\n",
            "TarefaB -3\n",
            "TarefaA -2\n",
            "TarefaA -1\n",
            "TarefaA 0\n",
            "TarefaA 1\n",
            "TarefaA 2\n",
            "TarefaA 3\n",
            "37.04234194755554\n"
          ],
          "name": "stdout"
        }
      ]
    },
    {
      "cell_type": "markdown",
      "metadata": {
        "id": "5_PsahP-I9_q"
      },
      "source": [
        "# Herança Thread"
      ]
    },
    {
      "cell_type": "code",
      "metadata": {
        "id": "NTrL8AfSJBzk"
      },
      "source": [
        "from threading import Thread\n",
        "\n",
        "class Myclass(Thread):\n",
        "  def __init__(self):\n",
        "    Thread.__init__(self)\n",
        "\n",
        "  def run(self):\n",
        "    pass\n",
        "\n",
        "mythread = Myclass()\n",
        "mythread.start()\n",
        "mythread.join()"
      ],
      "execution_count": null,
      "outputs": []
    },
    {
      "cell_type": "code",
      "metadata": {
        "id": "vMvkKn_rJ0Sr",
        "colab": {
          "base_uri": "https://localhost:8080/"
        },
        "outputId": "8a64ac52-09c5-4c68-a2ef-3d7486a4927e"
      },
      "source": [
        "from threading import Thread\n",
        "\n",
        "class Mythread(Thread):\n",
        "  def __init__(self,threadID,nome,contador):\n",
        "    Thread.__init__(self)\n",
        "    self.threadID = threadID\n",
        "    self.nome=nome\n",
        "    self.contador=contador\n",
        "\n",
        "  def run(self):\n",
        "    processo(self.nome,self.contador)\n",
        "\n",
        "def processo(nome,contador):\n",
        "  while contador:\n",
        "    print('Thread',nome,contador)\n",
        "    contador -=1\n",
        "\n",
        "thread1 = Mythread(1,'Alice',8)\n",
        "thread2 = Mythread(2,'Vale',7)\n",
        "thread3 = Mythread(3,'Ana',9)\n",
        "thread1.start()\n",
        "thread2.start()\n",
        "thread3.start()\n",
        "thread1.join()\n",
        "thread2.join()\n",
        "thread3.join()"
      ],
      "execution_count": null,
      "outputs": [
        {
          "output_type": "stream",
          "text": [
            "Thread Alice 8\n",
            "Thread Alice 7\n",
            "Thread Alice 6\n",
            "Thread Alice 5\n",
            "Thread Alice 4\n",
            "Thread Alice 3\n",
            "Thread Alice 2\n",
            "Thread Alice 1\n",
            "Thread Vale 7\n",
            "Thread Vale 6\n",
            "Thread Vale 5\n",
            "Thread Vale 4\n",
            "Thread Vale 3\n",
            "Thread Vale 2\n",
            "Thread Vale 1\n",
            "Thread Ana 9\n",
            "Thread Ana 8\n",
            "Thread Ana 7\n",
            "Thread Ana 6\n",
            "Thread Ana 5\n",
            "Thread Ana 4\n",
            "Thread Ana 3\n",
            "Thread Ana 2\n",
            "Thread Ana 1\n"
          ],
          "name": "stdout"
        }
      ]
    },
    {
      "cell_type": "markdown",
      "metadata": {
        "id": "QEIvmneLD8g9"
      },
      "source": [
        "# Reactive"
      ]
    },
    {
      "cell_type": "code",
      "metadata": {
        "id": "VHdcTIhMD8EK",
        "colab": {
          "base_uri": "https://localhost:8080/"
        },
        "outputId": "cfdcb323-42e4-4f86-98de-41bb828cde85"
      },
      "source": [
        "!pip install rx\n",
        "import rx\n",
        "import rx.operators as ops"
      ],
      "execution_count": null,
      "outputs": [
        {
          "output_type": "stream",
          "text": [
            "Collecting rx\n",
            "\u001b[?25l  Downloading https://files.pythonhosted.org/packages/90/6c/5f1839d9ae2a8c85d119c51acaff1f1382f68691cb0f1cb3d0c9fdd32a93/Rx-3.1.1-py3-none-any.whl (197kB)\n",
            "\r\u001b[K     |█▋                              | 10kB 18.0MB/s eta 0:00:01\r\u001b[K     |███▎                            | 20kB 3.6MB/s eta 0:00:01\r\u001b[K     |█████                           | 30kB 4.2MB/s eta 0:00:01\r\u001b[K     |██████▋                         | 40kB 4.6MB/s eta 0:00:01\r\u001b[K     |████████▎                       | 51kB 4.1MB/s eta 0:00:01\r\u001b[K     |██████████                      | 61kB 4.5MB/s eta 0:00:01\r\u001b[K     |███████████▋                    | 71kB 4.9MB/s eta 0:00:01\r\u001b[K     |█████████████▎                  | 81kB 5.3MB/s eta 0:00:01\r\u001b[K     |███████████████                 | 92kB 5.6MB/s eta 0:00:01\r\u001b[K     |████████████████▋               | 102kB 5.5MB/s eta 0:00:01\r\u001b[K     |██████████████████▎             | 112kB 5.5MB/s eta 0:00:01\r\u001b[K     |████████████████████            | 122kB 5.5MB/s eta 0:00:01\r\u001b[K     |█████████████████████▋          | 133kB 5.5MB/s eta 0:00:01\r\u001b[K     |███████████████████████▎        | 143kB 5.5MB/s eta 0:00:01\r\u001b[K     |█████████████████████████       | 153kB 5.5MB/s eta 0:00:01\r\u001b[K     |██████████████████████████▋     | 163kB 5.5MB/s eta 0:00:01\r\u001b[K     |████████████████████████████▎   | 174kB 5.5MB/s eta 0:00:01\r\u001b[K     |██████████████████████████████  | 184kB 5.5MB/s eta 0:00:01\r\u001b[K     |███████████████████████████████▋| 194kB 5.5MB/s eta 0:00:01\r\u001b[K     |████████████████████████████████| 204kB 5.5MB/s \n",
            "\u001b[?25hInstalling collected packages: rx\n",
            "Successfully installed rx-3.1.1\n"
          ],
          "name": "stdout"
        }
      ]
    },
    {
      "cell_type": "code",
      "metadata": {
        "id": "H-kOg07-EVuF"
      },
      "source": [
        "source = rx.from_iterable([1,2,3,4,5])"
      ],
      "execution_count": null,
      "outputs": []
    },
    {
      "cell_type": "markdown",
      "metadata": {
        "id": "_m1LkY8RG3ZE"
      },
      "source": [
        "**on_next** função executada a cada vez que o observable identifica informação<br>\n",
        "**on_complete** quando o observable termina a execução<br>\n",
        "**on_error** caso o observable ou on_next gere erro"
      ]
    },
    {
      "cell_type": "code",
      "metadata": {
        "id": "Z7A95pdbEgMo",
        "colab": {
          "base_uri": "https://localhost:8080/"
        },
        "outputId": "67a1bb55-5618-4276-fc3f-1cdb4d18fe73"
      },
      "source": [
        "disposable = source.pipe(ops.map(lambda i:i-1),ops.filter(lambda i:i%2==0),).subscribe(on_next=lambda i: print(\"on next:\",i), on_completed=lambda: print(\"completed\"), on_error=lambda e: print(\"error\",e))\n",
        "disposable.dispose()"
      ],
      "execution_count": null,
      "outputs": [
        {
          "output_type": "stream",
          "text": [
            "on next: 0\n",
            "on next: 2\n",
            "on next: 4\n",
            "completed\n"
          ],
          "name": "stdout"
        }
      ]
    },
    {
      "cell_type": "markdown",
      "metadata": {
        "id": "Osg0iAgWIw5h"
      },
      "source": [
        "# OO Reactive"
      ]
    },
    {
      "cell_type": "code",
      "metadata": {
        "id": "WJ4wnLVCF3jJ"
      },
      "source": [
        "from rx import create, disposable"
      ],
      "execution_count": null,
      "outputs": []
    },
    {
      "cell_type": "code",
      "metadata": {
        "id": "SPo6DaZwJH1o"
      },
      "source": [
        "def push_five_strings(observer, scheduler):\n",
        "  observer.on_next('Alpha')\n",
        "  observer.on_next('Beta')\n",
        "  observer.on_next('Gama')\n",
        "  observer.on_next('Lambda')\n",
        "  observer.on_next('Zeta')\n",
        "  observer.on_completed()"
      ],
      "execution_count": null,
      "outputs": []
    },
    {
      "cell_type": "code",
      "metadata": {
        "id": "8UTIDcRYJs9z"
      },
      "source": [
        "class PrintObserver(disposable.Disposable):\n",
        "  def on_next(self, value):\n",
        "    print('Recebido',value)\n",
        "\n",
        "  def on_completed(self):\n",
        "    print('Fim!')\n",
        "\n",
        "  def on_error(seld,error):\n",
        "    print('Error',error)"
      ],
      "execution_count": null,
      "outputs": []
    },
    {
      "cell_type": "code",
      "metadata": {
        "id": "h88cGbAcKYGU",
        "colab": {
          "base_uri": "https://localhost:8080/"
        },
        "outputId": "8c5b422d-964b-4ac7-d0d4-c791e486dffd"
      },
      "source": [
        "source =  create(push_five_strings)\n",
        "source.subscribe(PrintObserver())"
      ],
      "execution_count": null,
      "outputs": [
        {
          "output_type": "stream",
          "text": [
            "Recebido Alpha\n",
            "Recebido Beta\n",
            "Recebido Gama\n",
            "Recebido Lambda\n",
            "Recebido Zeta\n",
            "Fim!\n"
          ],
          "name": "stdout"
        },
        {
          "output_type": "execute_result",
          "data": {
            "text/plain": [
              "<rx.disposable.disposable.Disposable at 0x7fdce68a9f98>"
            ]
          },
          "metadata": {
            "tags": []
          },
          "execution_count": 14
        }
      ]
    },
    {
      "cell_type": "markdown",
      "metadata": {
        "id": "BxuGlMlDMC3B"
      },
      "source": [
        "#of"
      ]
    },
    {
      "cell_type": "code",
      "metadata": {
        "id": "KtLcOAnPKvlO"
      },
      "source": [
        "from rx import of"
      ],
      "execution_count": null,
      "outputs": []
    },
    {
      "cell_type": "code",
      "metadata": {
        "id": "_qzP49P0MKAT",
        "colab": {
          "base_uri": "https://localhost:8080/"
        },
        "outputId": "e5eb2179-e6a3-4c07-e22b-8bd7796f9a37"
      },
      "source": [
        "source = of('This', 'is', 'a', 'string', 'with', 'words')\n",
        "source.subscribe(on_next=lambda i : print('Recebido',i),on_error = lambda e: print('Error',e),on_completed = lambda: print('Finalizado'))"
      ],
      "execution_count": null,
      "outputs": [
        {
          "output_type": "stream",
          "text": [
            "Recebido This\n",
            "Recebido is\n",
            "Recebido a\n",
            "Recebido string\n",
            "Recebido with\n",
            "Recebido words\n",
            "Finalizado\n"
          ],
          "name": "stdout"
        },
        {
          "output_type": "execute_result",
          "data": {
            "text/plain": [
              "<rx.disposable.disposable.Disposable at 0x7fdce2874a90>"
            ]
          },
          "metadata": {
            "tags": []
          },
          "execution_count": 21
        }
      ]
    },
    {
      "cell_type": "markdown",
      "metadata": {
        "id": "lpKR4L9AoOBV"
      },
      "source": [
        "# Filters"
      ]
    },
    {
      "cell_type": "code",
      "metadata": {
        "id": "DMFFwUqgoITC",
        "colab": {
          "base_uri": "https://localhost:8080/"
        },
        "outputId": "5df70ab3-eeb8-4673-9531-36d66613d6fc"
      },
      "source": [
        "from rx import of, operators as op\n",
        "of('This', 'is', 'a', 'string', 'with', 'words').pipe(op.map(lambda s:len(s)),op.filter(lambda i:i>=5)).subscribe(on_next=lambda i : print('Recebido',i),on_error = lambda e: print('Error',e),on_completed = lambda: print('Finalizado'))"
      ],
      "execution_count": null,
      "outputs": [
        {
          "output_type": "stream",
          "text": [
            "Recebido 6\n",
            "Recebido 5\n",
            "Finalizado\n"
          ],
          "name": "stdout"
        },
        {
          "output_type": "execute_result",
          "data": {
            "text/plain": [
              "<rx.disposable.disposable.Disposable at 0x7ff7bdea2cc0>"
            ]
          },
          "metadata": {
            "tags": []
          },
          "execution_count": 3
        }
      ]
    },
    {
      "cell_type": "code",
      "metadata": {
        "id": "CEF4auwKr3CY",
        "colab": {
          "base_uri": "https://localhost:8080/"
        },
        "outputId": "06a2041b-6a0b-46d0-e25d-2f7a1670e060"
      },
      "source": [
        "from rx import of, operators as op\n",
        "\n",
        "def length_more_than(x):\n",
        "  return rx.pipe(op.map(lambda s:len(s)),op.filter(lambda i:i>=5))\n",
        "\n",
        "source = of('This', 'is', 'a', 'string', 'with', 'words')\n",
        "\n",
        "composed = source.pipe(length_more_than(5))\n",
        "\n",
        "composed.subscribe(on_next=lambda i : print('Recebido',i),on_error = lambda e: print('Error',e),on_completed = lambda: print('Finalizado'))"
      ],
      "execution_count": null,
      "outputs": [
        {
          "output_type": "stream",
          "text": [
            "Recebido 6\n",
            "Recebido 5\n",
            "Finalizado\n"
          ],
          "name": "stdout"
        },
        {
          "output_type": "execute_result",
          "data": {
            "text/plain": [
              "<rx.disposable.disposable.Disposable at 0x7ff7bddc9eb8>"
            ]
          },
          "metadata": {
            "tags": []
          },
          "execution_count": 5
        }
      ]
    },
    {
      "cell_type": "markdown",
      "metadata": {
        "id": "ah87e2Lnxmrf"
      },
      "source": [
        "# Thread Reativa"
      ]
    },
    {
      "cell_type": "code",
      "metadata": {
        "id": "aNZmNSSWxfYV"
      },
      "source": [
        "import multiprocessing\n",
        "import random\n",
        "import time\n",
        "from threading import current_thread\n",
        "import rx\n",
        "from rx.scheduler import ThreadPoolScheduler\n",
        "from rx import operators as ops"
      ],
      "execution_count": null,
      "outputs": []
    },
    {
      "cell_type": "code",
      "metadata": {
        "id": "0CXeH458xzmU"
      },
      "source": [
        "def intense_calculation(value):\n",
        "  time.sleep(random.randint(5,20)*0.1)\n",
        "  return value"
      ],
      "execution_count": null,
      "outputs": []
    },
    {
      "cell_type": "code",
      "metadata": {
        "id": "7ih54WMv1-m2"
      },
      "source": [
        "optimal_thread_count = multiprocessing.cpu_count()\n",
        "pool_scheduler = ThreadPoolScheduler(optimal_thread_count)"
      ],
      "execution_count": null,
      "outputs": []
    },
    {
      "cell_type": "code",
      "metadata": {
        "id": "oXd9EX653iLC",
        "colab": {
          "base_uri": "https://localhost:8080/"
        },
        "outputId": "5b49c6c9-9ef4-4fcd-fcd9-1fdd7e75c632"
      },
      "source": [
        "rx.of('Alpha','Beta','Gamma','Delta','Epsilon').pipe(\n",
        "ops.map(lambda s: intense_calculation(s)),ops.subscribe_on(pool_scheduler)).subscribe(\n",
        "on_next=lambda s: print('PROCESSO 1: {0}{1}'.format(curret_thread().name, s)),\n",
        "on_error=lambda e: print(e),\n",
        "on_completed=lambda: print('Processo 1 finalizado!'),\n",
        ")"
      ],
      "execution_count": null,
      "outputs": [
        {
          "output_type": "execute_result",
          "data": {
            "text/plain": [
              "<rx.disposable.disposable.Disposable at 0x7ff7bdc663c8>"
            ]
          },
          "metadata": {
            "tags": []
          },
          "execution_count": 11
        }
      ]
    },
    {
      "cell_type": "code",
      "metadata": {
        "id": "z4MIzxvw4wHS",
        "colab": {
          "base_uri": "https://localhost:8080/"
        },
        "outputId": "8d39ab80-fccb-4ecb-e080-832973acc301"
      },
      "source": [
        "rx.range(1,10).pipe(\n",
        "ops.map(lambda s:intense_calculation(s)), ops.subscribe_on(pool_scheduler)).subscribe(\n",
        "on_next=lambda i: print('PROCESSO 2: {0}{1}'.format(current_thread().name, i)),\n",
        "on_error=lambda e: print(e),\n",
        "on_completed=lambda: print('Processo 2 finalizado!')\n",
        ")"
      ],
      "execution_count": null,
      "outputs": [
        {
          "output_type": "execute_result",
          "data": {
            "text/plain": [
              "<rx.disposable.disposable.Disposable at 0x7ff7bdc66b38>"
            ]
          },
          "metadata": {
            "tags": []
          },
          "execution_count": 12
        }
      ]
    },
    {
      "cell_type": "code",
      "metadata": {
        "id": "2b9kTR605rym",
        "colab": {
          "base_uri": "https://localhost:8080/",
          "height": 231
        },
        "outputId": "22a48561-1029-4698-83d2-d44f87c6e709"
      },
      "source": [
        "rx.interval(1).pipe(\n",
        "ops.map(lambda i:i*100),\n",
        "ops.observe_on(pool_scheduler),\n",
        "ops.map(lambda s: intense_calculation(s)),\n",
        ").subscribe(\n",
        "on_next=lambda i: print('Processo 3: {0}{1}'.format(current_thread().name,i)),\n",
        "on_error=lambda e: print(e),\n",
        ")\n",
        "input('Press')"
      ],
      "execution_count": null,
      "outputs": [
        {
          "output_type": "stream",
          "text": [
            "Processo 3: ThreadPoolExecutor-0_10\n",
            "Processo 3: ThreadPoolExecutor-0_1100\n",
            "Processo 3: ThreadPoolExecutor-0_1200\n",
            "Processo 3: ThreadPoolExecutor-0_1300\n",
            "Processo 3: ThreadPoolExecutor-0_1400\n",
            "Processo 3: ThreadPoolExecutor-0_1500\n",
            "Processo 3: ThreadPoolExecutor-0_1600\n",
            "Processo 3: ThreadPoolExecutor-0_1700\n",
            "Processo 3: ThreadPoolExecutor-0_1800\n",
            "Press0\n",
            "Processo 3: ThreadPoolExecutor-0_1900\n"
          ],
          "name": "stdout"
        },
        {
          "output_type": "execute_result",
          "data": {
            "application/vnd.google.colaboratory.intrinsic+json": {
              "type": "string"
            },
            "text/plain": [
              "'0'"
            ]
          },
          "metadata": {
            "tags": []
          },
          "execution_count": 13
        }
      ]
    }
  ]
}